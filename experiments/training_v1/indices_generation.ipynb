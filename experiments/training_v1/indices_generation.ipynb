{
 "cells": [
  {
   "cell_type": "code",
   "execution_count": 1,
   "metadata": {},
   "outputs": [],
   "source": [
    "import json\n",
    "import random\n",
    "from langgfm.data.graph_generator import InputGraphGenerator"
   ]
  },
  {
   "cell_type": "code",
   "execution_count": 2,
   "metadata": {},
   "outputs": [
    {
     "data": {
      "text/plain": [
       "{'ogbn_arxiv': langgfm.data.graph_generator.node.ogbn_arxiv_generator.OgbnArxivGraphGenerator,\n",
       " 'wikics': langgfm.data.graph_generator.node.wikics_generator.WikicsGraphGenerator,\n",
       " 'aminer': langgfm.data.graph_generator.node.aminer_generator.AMinerGraphGenerator,\n",
       " 'twitch': langgfm.data.graph_generator.node.twitch_generator.TwitchGraphGenerator,\n",
       " 'usa_airport': langgfm.data.graph_generator.node.usa_airport.USAirportGraphGenerator,\n",
       " 'oag_scholar_interest': langgfm.data.graph_generator.node.oag_scholar_interest_generator.OAGScholarInterestGraphGenerator,\n",
       " 're_europe': langgfm.data.graph_generator.node.re_europe_generator.REEuropeGraphGenerator,\n",
       " 'ogbl_vessel': langgfm.data.graph_generator.edge.ogbl_vessel_generator.OgblVesselGraphGenerator,\n",
       " 'movielens1m': langgfm.data.graph_generator.edge.movielens_generator.Movielens1MGraphGenerator,\n",
       " 'yelp_review': langgfm.data.graph_generator.edge.yelp_review_generator.YelpReviewGraphGenerator,\n",
       " 'fb15k237': langgfm.data.graph_generator.edge.fb15k237_generator.FB15K237GraphGenerator,\n",
       " 'stack_elec': langgfm.data.graph_generator.edge.stack_elec_generator.StackElecGraphGenerator,\n",
       " 'fingerprint': langgfm.data.graph_generator.graph.fingerprint_generator.FingerprintGraphGenerator,\n",
       " 'bace': langgfm.data.graph_generator.graph.bace_generator.BaceGraphGenerator,\n",
       " 'esol': langgfm.data.graph_generator.graph.esol_generator.ESOLGraphGenerator,\n",
       " 'chebi20': langgfm.data.graph_generator.graph.chebi20_generator.ChEBI20GraphGenerator,\n",
       " 'explagraphs': langgfm.data.graph_generator.graph.explagraphs_generator.ExplagraphsGraphGenerator,\n",
       " 'node_counting': langgfm.data.graph_generator.structure.node_counting_generator.NodeCountingGraphGenerator,\n",
       " 'edge_counting': langgfm.data.graph_generator.structure.edge_counting_generator.EdgeCountingGraphGenerator,\n",
       " 'node_attribute_retrieval': langgfm.data.graph_generator.structure.node_attribute_retrieval_generator.NodeAttributeRetrievalGraphGenerator,\n",
       " 'edge_attribute_retrieval': langgfm.data.graph_generator.structure.edge_attribute_retrieval_generator.EdgeAttributeRetrievalGraphGenerator,\n",
       " 'edge_existence': langgfm.data.graph_generator.structure.edge_existence_generator.EdgeExistenceGraphGenerator,\n",
       " 'degree_counting': langgfm.data.graph_generator.structure.degree_counting_generator.DegreeCountingGraphGenerator,\n",
       " 'connectivity': langgfm.data.graph_generator.structure.connectivity_generator.ConnectivityGraphGenerator,\n",
       " 'shortest_path': langgfm.data.graph_generator.structure.shortest_path_generator.ShortestPathGraphGenerator,\n",
       " 'cycle_checking': langgfm.data.graph_generator.structure.cycle_checking_generator.CycleCheckingGraphGenerator,\n",
       " 'hamilton_path': langgfm.data.graph_generator.structure.hamilton_path_generator.HamiltonPathGraphGenerator,\n",
       " 'graph_automorphic': langgfm.data.graph_generator.structure.graph_automorphic_generator.GraphAutomorphicGraphGenerator,\n",
       " 'graph_structure_detection': langgfm.data.graph_generator.structure.graph_structure_detection_generator.GraphStructureDetectionGraphGenerator}"
      ]
     },
     "execution_count": 2,
     "metadata": {},
     "output_type": "execute_result"
    }
   ],
   "source": [
    "InputGraphGenerator.registry"
   ]
  },
  {
   "cell_type": "code",
   "execution_count": null,
   "metadata": {},
   "outputs": [
    {
     "name": "stdout",
     "output_type": "stream",
     "text": [
      "ogbn_arxiv\n",
      "wikics\n",
      "aminer\n"
     ]
    },
    {
     "name": "stderr",
     "output_type": "stream",
     "text": [
      "/home/tlin4/softwares/anaconda3/envs/GFM/lib/python3.11/site-packages/torch_geometric/io/fs.py:229: UserWarning: Weights only load failed. Please file an issue to make `torch.load(weights_only=True)` compatible in your case. Please use `torch.serialization.add_safe_globals([BaseStorage])` to allowlist this global.\n",
      "  warnings.warn(f\"{warn_msg} Please use \"\n"
     ]
    },
    {
     "name": "stdout",
     "output_type": "stream",
     "text": [
      "twitch\n"
     ]
    },
    {
     "name": "stderr",
     "output_type": "stream",
     "text": [
      "/home/tlin4/projects/LangGFM/src/langgfm/data/graph_generator/node/twitch_generator.py:34: FutureWarning: Downcasting behavior in `replace` is deprecated and will be removed in a future version. To retain the old behavior, explicitly call `result.infer_objects(copy=False)`. To opt-in to the future behavior, set `pd.set_option('future.no_silent_downcasting', True)`\n",
      "  self.nodes['dead_account'] = self.nodes['dead_account'].replace({1: True, 0: False}).infer_objects(copy=False)\n"
     ]
    },
    {
     "name": "stdout",
     "output_type": "stream",
     "text": [
      "oag_scholar_interest\n",
      "re_europe\n",
      "ogbl_vessel\n",
      "movielens1m\n",
      "yelp_review\n",
      "fb15k237\n",
      "stack_elec\n",
      "fingerprint\n",
      "bace\n",
      "esol\n",
      "chebi20\n",
      "explagraphs\n",
      "node_counting\n"
     ]
    },
    {
     "ename": "FileNotFoundError",
     "evalue": "[Errno 2] No such file or directory: '/home/tlin4/projects/LangGFM/src/langgfm/data/graph_generator/../../../../data/node_counting/raw/data.pt'",
     "output_type": "error",
     "traceback": [
      "\u001b[0;31m---------------------------------------------------------------------------\u001b[0m",
      "\u001b[0;31mFileNotFoundError\u001b[0m                         Traceback (most recent call last)",
      "Cell \u001b[0;32mIn[3], line 7\u001b[0m\n\u001b[1;32m      5\u001b[0m     \u001b[38;5;28;01mcontinue\u001b[39;00m\n\u001b[1;32m      6\u001b[0m \u001b[38;5;28mprint\u001b[39m(dataset)\n\u001b[0;32m----> 7\u001b[0m generator \u001b[38;5;241m=\u001b[39m InputGraphGenerator\u001b[38;5;241m.\u001b[39mcreate(dataset)\n\u001b[1;32m      8\u001b[0m all_samples \u001b[38;5;241m=\u001b[39m generator\u001b[38;5;241m.\u001b[39mall_samples\n\u001b[1;32m      9\u001b[0m samples \u001b[38;5;241m=\u001b[39m random\u001b[38;5;241m.\u001b[39msample(all_samples, \u001b[38;5;28mmin\u001b[39m(\u001b[38;5;241m5000\u001b[39m, \u001b[38;5;28mlen\u001b[39m(all_samples)))\n",
      "File \u001b[0;32m~/projects/LangGFM/src/langgfm/data/graph_generator/_base_generator.py:40\u001b[0m, in \u001b[0;36mInputGraphGenerator.create\u001b[0;34m(cls, name, *args, **kwargs)\u001b[0m\n\u001b[1;32m     38\u001b[0m \u001b[38;5;28;01mif\u001b[39;00m name \u001b[38;5;129;01mnot\u001b[39;00m \u001b[38;5;129;01min\u001b[39;00m \u001b[38;5;28mcls\u001b[39m\u001b[38;5;241m.\u001b[39mregistry:\n\u001b[1;32m     39\u001b[0m     \u001b[38;5;28;01mraise\u001b[39;00m \u001b[38;5;167;01mValueError\u001b[39;00m(\u001b[38;5;124mf\u001b[39m\u001b[38;5;124m\"\u001b[39m\u001b[38;5;124mUnknown generator type: \u001b[39m\u001b[38;5;132;01m{\u001b[39;00mname\u001b[38;5;132;01m}\u001b[39;00m\u001b[38;5;124m. Available types: \u001b[39m\u001b[38;5;132;01m{\u001b[39;00m\u001b[38;5;28mlist\u001b[39m(\u001b[38;5;28mcls\u001b[39m\u001b[38;5;241m.\u001b[39mregistry\u001b[38;5;241m.\u001b[39mkeys())\u001b[38;5;132;01m}\u001b[39;00m\u001b[38;5;124m\"\u001b[39m)\n\u001b[0;32m---> 40\u001b[0m \u001b[38;5;28;01mreturn\u001b[39;00m \u001b[38;5;28mcls\u001b[39m\u001b[38;5;241m.\u001b[39mregistry[name](\u001b[38;5;241m*\u001b[39margs, \u001b[38;5;241m*\u001b[39m\u001b[38;5;241m*\u001b[39mkwargs)\n",
      "File \u001b[0;32m~/projects/LangGFM/src/langgfm/data/graph_generator/structure/node_counting_generator.py:10\u001b[0m, in \u001b[0;36mNodeCountingGraphGenerator.__init__\u001b[0;34m(self, task)\u001b[0m\n\u001b[1;32m      9\u001b[0m \u001b[38;5;28;01mdef\u001b[39;00m\u001b[38;5;250m \u001b[39m\u001b[38;5;21m__init__\u001b[39m(\u001b[38;5;28mself\u001b[39m, task\u001b[38;5;241m=\u001b[39m\u001b[38;5;124m'\u001b[39m\u001b[38;5;124mnode_counting\u001b[39m\u001b[38;5;124m'\u001b[39m):\n\u001b[0;32m---> 10\u001b[0m     \u001b[38;5;28msuper\u001b[39m()\u001b[38;5;241m.\u001b[39m\u001b[38;5;21m__init__\u001b[39m(task)\n",
      "File \u001b[0;32m~/projects/LangGFM/src/langgfm/data/graph_generator/_base_generator.py:415\u001b[0m, in \u001b[0;36mStructuralTaskGraphGenerator.__init__\u001b[0;34m(self, task)\u001b[0m\n\u001b[1;32m    408\u001b[0m \u001b[38;5;28mself\u001b[39m\u001b[38;5;241m.\u001b[39mconfig \u001b[38;5;241m=\u001b[39m load_yaml(\n\u001b[1;32m    409\u001b[0m     os\u001b[38;5;241m.\u001b[39mpath\u001b[38;5;241m.\u001b[39mjoin(\n\u001b[1;32m    410\u001b[0m         os\u001b[38;5;241m.\u001b[39mpath\u001b[38;5;241m.\u001b[39mdirname(\u001b[38;5;18m__file__\u001b[39m),\n\u001b[1;32m    411\u001b[0m         \u001b[38;5;124m\"\u001b[39m\u001b[38;5;124m./../../configs/structural_task_generation.yaml\u001b[39m\u001b[38;5;124m\"\u001b[39m\n\u001b[1;32m    412\u001b[0m     )\n\u001b[1;32m    413\u001b[0m )[task]\n\u001b[1;32m    414\u001b[0m \u001b[38;5;28mself\u001b[39m\u001b[38;5;241m.\u001b[39mroot \u001b[38;5;241m=\u001b[39m os\u001b[38;5;241m.\u001b[39mpath\u001b[38;5;241m.\u001b[39mjoin(os\u001b[38;5;241m.\u001b[39mpath\u001b[38;5;241m.\u001b[39mdirname(\u001b[38;5;18m__file__\u001b[39m), \u001b[38;5;28mself\u001b[39m\u001b[38;5;241m.\u001b[39mconfig[\u001b[38;5;124m'\u001b[39m\u001b[38;5;124mfile_path\u001b[39m\u001b[38;5;124m'\u001b[39m])\n\u001b[0;32m--> 415\u001b[0m \u001b[38;5;28mself\u001b[39m\u001b[38;5;241m.\u001b[39mload_data()\n",
      "File \u001b[0;32m~/projects/LangGFM/src/langgfm/data/graph_generator/_base_generator.py:428\u001b[0m, in \u001b[0;36mStructuralTaskGraphGenerator.load_data\u001b[0;34m(self)\u001b[0m\n\u001b[1;32m    426\u001b[0m \u001b[38;5;28;01mwith\u001b[39;00m warnings\u001b[38;5;241m.\u001b[39mcatch_warnings():\n\u001b[1;32m    427\u001b[0m     warnings\u001b[38;5;241m.\u001b[39msimplefilter(\u001b[38;5;124m\"\u001b[39m\u001b[38;5;124mignore\u001b[39m\u001b[38;5;124m\"\u001b[39m, \u001b[38;5;167;01mFutureWarning\u001b[39;00m)  \u001b[38;5;66;03m# suppress torch.load warning of `weight_only`\u001b[39;00m\n\u001b[0;32m--> 428\u001b[0m     dataset \u001b[38;5;241m=\u001b[39m torch\u001b[38;5;241m.\u001b[39mload(\u001b[38;5;28mself\u001b[39m\u001b[38;5;241m.\u001b[39mroot)\n\u001b[1;32m    429\u001b[0m \u001b[38;5;28mself\u001b[39m\u001b[38;5;241m.\u001b[39mgraphs, \u001b[38;5;28mself\u001b[39m\u001b[38;5;241m.\u001b[39mlabels \u001b[38;5;241m=\u001b[39m dataset[\u001b[38;5;124m'\u001b[39m\u001b[38;5;124mgraphs\u001b[39m\u001b[38;5;124m'\u001b[39m], dataset[\u001b[38;5;124m'\u001b[39m\u001b[38;5;124mlabels\u001b[39m\u001b[38;5;124m'\u001b[39m]\n",
      "File \u001b[0;32m~/softwares/anaconda3/envs/GFM/lib/python3.11/site-packages/torch/serialization.py:1319\u001b[0m, in \u001b[0;36mload\u001b[0;34m(f, map_location, pickle_module, weights_only, mmap, **pickle_load_args)\u001b[0m\n\u001b[1;32m   1316\u001b[0m \u001b[38;5;28;01mif\u001b[39;00m \u001b[38;5;124m\"\u001b[39m\u001b[38;5;124mencoding\u001b[39m\u001b[38;5;124m\"\u001b[39m \u001b[38;5;129;01mnot\u001b[39;00m \u001b[38;5;129;01min\u001b[39;00m pickle_load_args\u001b[38;5;241m.\u001b[39mkeys():\n\u001b[1;32m   1317\u001b[0m     pickle_load_args[\u001b[38;5;124m\"\u001b[39m\u001b[38;5;124mencoding\u001b[39m\u001b[38;5;124m\"\u001b[39m] \u001b[38;5;241m=\u001b[39m \u001b[38;5;124m\"\u001b[39m\u001b[38;5;124mutf-8\u001b[39m\u001b[38;5;124m\"\u001b[39m\n\u001b[0;32m-> 1319\u001b[0m \u001b[38;5;28;01mwith\u001b[39;00m _open_file_like(f, \u001b[38;5;124m\"\u001b[39m\u001b[38;5;124mrb\u001b[39m\u001b[38;5;124m\"\u001b[39m) \u001b[38;5;28;01mas\u001b[39;00m opened_file:\n\u001b[1;32m   1320\u001b[0m     \u001b[38;5;28;01mif\u001b[39;00m _is_zipfile(opened_file):\n\u001b[1;32m   1321\u001b[0m         \u001b[38;5;66;03m# The zipfile reader is going to advance the current file position.\u001b[39;00m\n\u001b[1;32m   1322\u001b[0m         \u001b[38;5;66;03m# If we want to actually tail call to torch.jit.load, we need to\u001b[39;00m\n\u001b[1;32m   1323\u001b[0m         \u001b[38;5;66;03m# reset back to the original position.\u001b[39;00m\n\u001b[1;32m   1324\u001b[0m         orig_position \u001b[38;5;241m=\u001b[39m opened_file\u001b[38;5;241m.\u001b[39mtell()\n",
      "File \u001b[0;32m~/softwares/anaconda3/envs/GFM/lib/python3.11/site-packages/torch/serialization.py:659\u001b[0m, in \u001b[0;36m_open_file_like\u001b[0;34m(name_or_buffer, mode)\u001b[0m\n\u001b[1;32m    657\u001b[0m \u001b[38;5;28;01mdef\u001b[39;00m\u001b[38;5;250m \u001b[39m\u001b[38;5;21m_open_file_like\u001b[39m(name_or_buffer, mode):\n\u001b[1;32m    658\u001b[0m     \u001b[38;5;28;01mif\u001b[39;00m _is_path(name_or_buffer):\n\u001b[0;32m--> 659\u001b[0m         \u001b[38;5;28;01mreturn\u001b[39;00m _open_file(name_or_buffer, mode)\n\u001b[1;32m    660\u001b[0m     \u001b[38;5;28;01melse\u001b[39;00m:\n\u001b[1;32m    661\u001b[0m         \u001b[38;5;28;01mif\u001b[39;00m \u001b[38;5;124m\"\u001b[39m\u001b[38;5;124mw\u001b[39m\u001b[38;5;124m\"\u001b[39m \u001b[38;5;129;01min\u001b[39;00m mode:\n",
      "File \u001b[0;32m~/softwares/anaconda3/envs/GFM/lib/python3.11/site-packages/torch/serialization.py:640\u001b[0m, in \u001b[0;36m_open_file.__init__\u001b[0;34m(self, name, mode)\u001b[0m\n\u001b[1;32m    639\u001b[0m \u001b[38;5;28;01mdef\u001b[39;00m\u001b[38;5;250m \u001b[39m\u001b[38;5;21m__init__\u001b[39m(\u001b[38;5;28mself\u001b[39m, name, mode):\n\u001b[0;32m--> 640\u001b[0m     \u001b[38;5;28msuper\u001b[39m()\u001b[38;5;241m.\u001b[39m\u001b[38;5;21m__init__\u001b[39m(\u001b[38;5;28mopen\u001b[39m(name, mode))\n",
      "\u001b[0;31mFileNotFoundError\u001b[0m: [Errno 2] No such file or directory: '/home/tlin4/projects/LangGFM/src/langgfm/data/graph_generator/../../../../data/node_counting/raw/data.pt'"
     ]
    }
   ],
   "source": [
    "import random\n",
    "indices = dict()\n",
    "for dataset in InputGraphGenerator.registry:\n",
    "    if dataset in {\"usa_airport\"}:\n",
    "        continue\n",
    "    print(dataset)\n",
    "    generator = InputGraphGenerator.create(dataset)\n",
    "    all_samples = generator.all_samples\n",
    "    samples = random.sample(all_samples, min(5000, len(all_samples)))\n",
    "    indices[dataset] = samples"
   ]
  },
  {
   "cell_type": "code",
   "execution_count": 5,
   "metadata": {},
   "outputs": [
    {
     "data": {
      "text/plain": [
       "dict_keys(['ogbn_arxiv', 'wikics', 'aminer', 'twitch', 'oag_scholar_interest', 're_europe', 'ogbl_vessel', 'movielens1m', 'yelp_review', 'fb15k237', 'stack_elec', 'fingerprint', 'bace', 'esol', 'chebi20', 'explagraphs'])"
      ]
     },
     "execution_count": 5,
     "metadata": {},
     "output_type": "execute_result"
    }
   ],
   "source": [
    "indices"
   ]
  },
  {
   "cell_type": "code",
   "execution_count": 6,
   "metadata": {},
   "outputs": [],
   "source": [
    "from langgfm.utils.io import save_beautiful_json"
   ]
  },
  {
   "cell_type": "code",
   "execution_count": 7,
   "metadata": {},
   "outputs": [
    {
     "ename": "FileNotFoundError",
     "evalue": "[Errno 2] No such file or directory: '/experiments/training_v1/indice_min(5k_datasetsize).json'",
     "output_type": "error",
     "traceback": [
      "\u001b[0;31m---------------------------------------------------------------------------\u001b[0m",
      "\u001b[0;31mFileNotFoundError\u001b[0m                         Traceback (most recent call last)",
      "Cell \u001b[0;32mIn[7], line 1\u001b[0m\n\u001b[0;32m----> 1\u001b[0m save_beautiful_json(indices, \u001b[38;5;124m\"\u001b[39m\u001b[38;5;124m/experiments/training_v1/indice_min(5k_datasetsize).json\u001b[39m\u001b[38;5;124m\"\u001b[39m)\n",
      "File \u001b[0;32m~/projects/LangGFM/src/langgfm/utils/io.py:24\u001b[0m, in \u001b[0;36msave_beautiful_json\u001b[0;34m(data, file_path)\u001b[0m\n\u001b[1;32m     21\u001b[0m \u001b[38;5;66;03m# 替换 \"]\\n    ]\" 为 \"]]\"\u001b[39;00m\n\u001b[1;32m     22\u001b[0m formatted_json \u001b[38;5;241m=\u001b[39m re\u001b[38;5;241m.\u001b[39msub(\u001b[38;5;124mr\u001b[39m\u001b[38;5;124m'\u001b[39m\u001b[38;5;124m\\\u001b[39m\u001b[38;5;124m]\u001b[39m\u001b[38;5;124m\\\u001b[39m\u001b[38;5;124ms*\u001b[39m\u001b[38;5;124m\\\u001b[39m\u001b[38;5;124mn\u001b[39m\u001b[38;5;124m\\\u001b[39m\u001b[38;5;124ms*\u001b[39m\u001b[38;5;124m\\\u001b[39m\u001b[38;5;124m]\u001b[39m\u001b[38;5;124m'\u001b[39m, \u001b[38;5;124m'\u001b[39m\u001b[38;5;124m]]\u001b[39m\u001b[38;5;124m'\u001b[39m, formatted_json)\n\u001b[0;32m---> 24\u001b[0m \u001b[38;5;28;01mwith\u001b[39;00m \u001b[38;5;28mopen\u001b[39m(file_path, \u001b[38;5;124m\"\u001b[39m\u001b[38;5;124mw\u001b[39m\u001b[38;5;124m\"\u001b[39m, encoding\u001b[38;5;241m=\u001b[39m\u001b[38;5;124m\"\u001b[39m\u001b[38;5;124mutf-8\u001b[39m\u001b[38;5;124m\"\u001b[39m) \u001b[38;5;28;01mas\u001b[39;00m file:\n\u001b[1;32m     25\u001b[0m     file\u001b[38;5;241m.\u001b[39mwrite(formatted_json)\n",
      "\u001b[0;31mFileNotFoundError\u001b[0m: [Errno 2] No such file or directory: '/experiments/training_v1/indice_min(5k_datasetsize).json'"
     ]
    }
   ],
   "source": [
    "save_beautiful_json(indices, \"/experiments/training_v1/indice_min(5k_datasetsize).json\")"
   ]
  },
  {
   "cell_type": "markdown",
   "metadata": {},
   "source": [
    "# Overall indices.json"
   ]
  },
  {
   "cell_type": "code",
   "execution_count": 7,
   "metadata": {},
   "outputs": [],
   "source": [
    "indices = {}"
   ]
  },
  {
   "cell_type": "markdown",
   "metadata": {},
   "source": [
    "# Node"
   ]
  },
  {
   "cell_type": "markdown",
   "metadata": {},
   "source": [
    "## ogbn_arxiv"
   ]
  },
  {
   "cell_type": "code",
   "execution_count": 8,
   "metadata": {},
   "outputs": [],
   "source": [
    "split = json.load(open('experiments/training_v1/benchmark_splits/OgbnArxiv_ugm_split.json'))"
   ]
  },
  {
   "cell_type": "code",
   "execution_count": 9,
   "metadata": {},
   "outputs": [],
   "source": [
    "indices['ogbn_arxiv'] = split['train']"
   ]
  },
  {
   "cell_type": "markdown",
   "metadata": {},
   "source": [
    "## wiki_cs"
   ]
  },
  {
   "cell_type": "code",
   "execution_count": 10,
   "metadata": {},
   "outputs": [],
   "source": [
    "split = json.load(open('experiments/training_v1/benchmark_splits/WikiCS_ugm_split.json'))"
   ]
  },
  {
   "cell_type": "code",
   "execution_count": 11,
   "metadata": {},
   "outputs": [],
   "source": [
    "indices['wiki_cs'] = split['train']"
   ]
  },
  {
   "cell_type": "markdown",
   "metadata": {},
   "source": [
    "## twitch"
   ]
  },
  {
   "cell_type": "code",
   "execution_count": 12,
   "metadata": {},
   "outputs": [],
   "source": [
    "split = json.load(open('experiments/training_v1/benchmark_splits/Twitch_ugm_split.json'))"
   ]
  },
  {
   "cell_type": "code",
   "execution_count": 13,
   "metadata": {},
   "outputs": [],
   "source": [
    "indices['twitch'] = split['train']"
   ]
  },
  {
   "cell_type": "markdown",
   "metadata": {},
   "source": [
    "## re_europe"
   ]
  },
  {
   "cell_type": "code",
   "execution_count": 14,
   "metadata": {},
   "outputs": [],
   "source": [
    "generator = InputGraphGenerator.create(\"re_europe\")"
   ]
  },
  {
   "cell_type": "code",
   "execution_count": 15,
   "metadata": {},
   "outputs": [],
   "source": [
    "indices['re_europe'] = random.sample(list(generator.all_samples),k=500)"
   ]
  },
  {
   "cell_type": "markdown",
   "metadata": {},
   "source": [
    "## oag_scholar_interest"
   ]
  },
  {
   "cell_type": "code",
   "execution_count": 16,
   "metadata": {},
   "outputs": [],
   "source": [
    "generator = InputGraphGenerator.create(\"oag_scholar_interest\")"
   ]
  },
  {
   "cell_type": "code",
   "execution_count": 17,
   "metadata": {},
   "outputs": [],
   "source": [
    "indices['oag_scholar_interest'] = random.sample(list(generator.all_samples),k=500)"
   ]
  },
  {
   "cell_type": "markdown",
   "metadata": {},
   "source": [
    "# Edge"
   ]
  },
  {
   "cell_type": "markdown",
   "metadata": {},
   "source": [
    "## fb15k237 "
   ]
  },
  {
   "cell_type": "code",
   "execution_count": 18,
   "metadata": {},
   "outputs": [],
   "source": [
    "split= json.load(open('experiments/training_v1/benchmark_splits/FB15K237_ugm_split.json'))"
   ]
  },
  {
   "cell_type": "code",
   "execution_count": 19,
   "metadata": {},
   "outputs": [],
   "source": [
    "from langgfm.data.graph_generator.utils.graph_utils import get_multiplex_id_by_edge_idx\n",
    "generator = InputGraphGenerator.create(\"fb15k237\")"
   ]
  },
  {
   "cell_type": "code",
   "execution_count": 20,
   "metadata": {},
   "outputs": [],
   "source": [
    "samples = []\n",
    "for idx in split['train']:\n",
    "    src, dst = generator.graph.edge_index[:,idx].tolist()\n",
    "    multiplex_id = get_multiplex_id_by_edge_idx(idx,generator.graph.edge_index)\n",
    "    samples.append((src,dst,multiplex_id))"
   ]
  },
  {
   "cell_type": "code",
   "execution_count": 21,
   "metadata": {},
   "outputs": [],
   "source": [
    "indices['fb15k237'] = samples"
   ]
  },
  {
   "cell_type": "markdown",
   "metadata": {},
   "source": [
    "## ogbl_vessel"
   ]
  },
  {
   "cell_type": "code",
   "execution_count": 22,
   "metadata": {},
   "outputs": [],
   "source": [
    "split= json.load(open('experiments/training_v1/benchmark_splits/OgblVessel_ugm_split.json'))"
   ]
  },
  {
   "cell_type": "code",
   "execution_count": 23,
   "metadata": {},
   "outputs": [],
   "source": [
    "from langgfm.data.graph_generator.utils.graph_utils import get_multiplex_id_by_edge_idx\n",
    "generator = InputGraphGenerator.create(\"ogbl_vessel\")"
   ]
  },
  {
   "cell_type": "code",
   "execution_count": 24,
   "metadata": {},
   "outputs": [],
   "source": [
    "samples = []\n",
    "\n",
    "for idx in split['train']:\n",
    "    sample = generator.all_samples[idx]\n",
    "    samples.append(sample)"
   ]
  },
  {
   "cell_type": "code",
   "execution_count": 25,
   "metadata": {},
   "outputs": [],
   "source": [
    "indices['ogbl_vessel'] = samples"
   ]
  },
  {
   "cell_type": "markdown",
   "metadata": {},
   "source": [
    "## movielens1m"
   ]
  },
  {
   "cell_type": "code",
   "execution_count": 26,
   "metadata": {},
   "outputs": [],
   "source": [
    "\n",
    "# from langgfm.data.graph_generator import OgblVesselGraphGenerator\n",
    "generator = InputGraphGenerator.create(\"movielens1m\")"
   ]
  },
  {
   "cell_type": "code",
   "execution_count": 27,
   "metadata": {},
   "outputs": [],
   "source": [
    "indices['movielens1m'] = random.sample(list(generator.all_samples),k=500)"
   ]
  },
  {
   "cell_type": "markdown",
   "metadata": {},
   "source": [
    "## stack_elec"
   ]
  },
  {
   "cell_type": "code",
   "execution_count": 28,
   "metadata": {},
   "outputs": [
    {
     "name": "stderr",
     "output_type": "stream",
     "text": [
      "2025-01-15 00:23:26,846 - DEBUG - [stack_elec_generator.py:32] Counter([(row['u'].item(), row['i'].item()) for row_idx, row in self.edge_list.iterrows()]).most_common(10)=[((5319, 81668), 43), ((62, 81668), 34), ((6251, 84896), 31), ((11406, 83311), 28), ((2484, 92160), 27), ((773, 68432), 27), ((5319, 99666), 26), ((3955, 99452), 26), ((3035, 76281), 25), ((16112, 109820), 25)]\n"
     ]
    }
   ],
   "source": [
    "generator = InputGraphGenerator.create(\"stack_elec\")"
   ]
  },
  {
   "cell_type": "code",
   "execution_count": 29,
   "metadata": {},
   "outputs": [],
   "source": [
    "# random.sample(list(generator.all_samples),k=500)"
   ]
  },
  {
   "cell_type": "code",
   "execution_count": 30,
   "metadata": {},
   "outputs": [],
   "source": [
    "indices['stack_elec'] = random.sample(list(generator.all_samples),k=500)"
   ]
  },
  {
   "cell_type": "markdown",
   "metadata": {},
   "source": [
    "## yelp_review"
   ]
  },
  {
   "cell_type": "code",
   "execution_count": 14,
   "metadata": {},
   "outputs": [],
   "source": [
    "generator = InputGraphGenerator.create(\"yelp_review\")"
   ]
  },
  {
   "cell_type": "code",
   "execution_count": null,
   "metadata": {},
   "outputs": [],
   "source": [
    "indices_old = json.load(open(\"/home/tlin4/projects/LangGFM/experiments/training_v1/indices_semantic.json\"))['yelp_review']"
   ]
  },
  {
   "cell_type": "code",
   "execution_count": 32,
   "metadata": {},
   "outputs": [
    {
     "data": {
      "text/plain": [
       "tensor([30841,  1771])"
      ]
     },
     "execution_count": 32,
     "metadata": {},
     "output_type": "execute_result"
    }
   ],
   "source": [
    "generator.hetero_data[\"user\", \"review\", \"business\"].edge_index[:,12693]"
   ]
  },
  {
   "cell_type": "code",
   "execution_count": 33,
   "metadata": {},
   "outputs": [],
   "source": [
    "indices['yelp_review'] = random.sample(list(generator.all_samples),k=500)"
   ]
  },
  {
   "cell_type": "code",
   "execution_count": 34,
   "metadata": {},
   "outputs": [],
   "source": [
    "# old_train_idx = json.load(open('experiments/training_v1/benchmark_splits/ugm@YelpReviewGeneration@@@main_max_length=16000_Table_samples_train.json'))"
   ]
  },
  {
   "cell_type": "code",
   "execution_count": 35,
   "metadata": {},
   "outputs": [],
   "source": [
    "# [sample['fname'] for sample in old_train_idx]"
   ]
  },
  {
   "cell_type": "markdown",
   "metadata": {},
   "source": [
    "# Graph"
   ]
  },
  {
   "cell_type": "markdown",
   "metadata": {},
   "source": [
    "## fingerprint"
   ]
  },
  {
   "cell_type": "code",
   "execution_count": 49,
   "metadata": {},
   "outputs": [],
   "source": [
    "split = json.load(open('experiments/training_v1/benchmark_splits/Fingerprint_ugm_split.json'))"
   ]
  },
  {
   "cell_type": "code",
   "execution_count": 52,
   "metadata": {},
   "outputs": [],
   "source": [
    "generator = InputGraphGenerator.create(\"fingerprint\")\n",
    "indices['fingerprint'] = random.sample(list(generator.all_samples),k=500)"
   ]
  },
  {
   "cell_type": "markdown",
   "metadata": {},
   "source": [
    "## bace"
   ]
  },
  {
   "cell_type": "code",
   "execution_count": 38,
   "metadata": {},
   "outputs": [],
   "source": [
    "split = json.load(open('experiments/training_v1/benchmark_splits/BACE_ugm_split.json'))\n",
    "indices['bace'] = split['train']"
   ]
  },
  {
   "cell_type": "markdown",
   "metadata": {},
   "source": [
    "## esol"
   ]
  },
  {
   "cell_type": "code",
   "execution_count": 39,
   "metadata": {},
   "outputs": [],
   "source": [
    "generator = InputGraphGenerator.create(\"esol\")"
   ]
  },
  {
   "cell_type": "code",
   "execution_count": 40,
   "metadata": {},
   "outputs": [],
   "source": [
    "indices['esol'] = random.sample(list(generator.all_samples),k=500)"
   ]
  },
  {
   "cell_type": "markdown",
   "metadata": {},
   "source": [
    "## explagraphs"
   ]
  },
  {
   "cell_type": "code",
   "execution_count": 41,
   "metadata": {},
   "outputs": [],
   "source": [
    "generator = InputGraphGenerator.create(\"explagraphs\")"
   ]
  },
  {
   "cell_type": "code",
   "execution_count": 42,
   "metadata": {},
   "outputs": [],
   "source": [
    "indices['explagraphs'] = random.sample(list(generator.all_samples),k=500)"
   ]
  },
  {
   "cell_type": "markdown",
   "metadata": {},
   "source": [
    "## chebi20"
   ]
  },
  {
   "cell_type": "code",
   "execution_count": 2,
   "metadata": {},
   "outputs": [],
   "source": [
    "generator = InputGraphGenerator.create(\"chebi20\")"
   ]
  },
  {
   "cell_type": "code",
   "execution_count": 9,
   "metadata": {},
   "outputs": [],
   "source": [
    "indices_old = json.load(open(\"/home/tlin4/projects/LangGFM/experiments/training_v1/indices_semantic.json\"))['chebi20']"
   ]
  },
  {
   "cell_type": "code",
   "execution_count": 8,
   "metadata": {},
   "outputs": [
    {
     "ename": "TypeError",
     "evalue": "list indices must be integers or slices, not str",
     "output_type": "error",
     "traceback": [
      "\u001b[0;31m---------------------------------------------------------------------------\u001b[0m",
      "\u001b[0;31mTypeError\u001b[0m                                 Traceback (most recent call last)",
      "Cell \u001b[0;32mIn[8], line 1\u001b[0m\n\u001b[0;32m----> 1\u001b[0m indices[\u001b[38;5;124m'\u001b[39m\u001b[38;5;124mchebi20\u001b[39m\u001b[38;5;124m'\u001b[39m] \u001b[38;5;241m=\u001b[39m random\u001b[38;5;241m.\u001b[39msample(\u001b[38;5;28mlist\u001b[39m(generator\u001b[38;5;241m.\u001b[39mall_samples),k\u001b[38;5;241m=\u001b[39m\u001b[38;5;241m500\u001b[39m)\n",
      "\u001b[0;31mTypeError\u001b[0m: list indices must be integers or slices, not str"
     ]
    }
   ],
   "source": [
    "indices['chebi20'] = random.sample(list(generator.all_samples),k=500)"
   ]
  },
  {
   "cell_type": "code",
   "execution_count": 13,
   "metadata": {},
   "outputs": [
    {
     "data": {
      "text/plain": [
       "[129626816, 10299455]"
      ]
     },
     "execution_count": 13,
     "metadata": {},
     "output_type": "execute_result"
    }
   ],
   "source": [
    "random.sample(list(set(random.sample(list(generator.all_samples),k=500) )- set(indices_old)),k=2)"
   ]
  },
  {
   "cell_type": "code",
   "execution_count": 45,
   "metadata": {},
   "outputs": [],
   "source": [
    "import jsbeautifier"
   ]
  },
  {
   "cell_type": "code",
   "execution_count": 46,
   "metadata": {},
   "outputs": [],
   "source": [
    "indices_mini = {k:v[:10] for k,v in indices.items()}"
   ]
  },
  {
   "cell_type": "markdown",
   "metadata": {},
   "source": [
    "# output"
   ]
  },
  {
   "cell_type": "code",
   "execution_count": 53,
   "metadata": {},
   "outputs": [
    {
     "name": "stdout",
     "output_type": "stream",
     "text": [
      "{\n",
      "    \"ogbn_arxiv\": [122169, 4648, 132020, 42550, 83465, 77953, 50753, 81032, 40188, 157311, 25620, 59882, 29137, 73164, 86374, 1798, 120805, 51393, 78540, 55515, 77079, 137374, 137692, 144714, 69272, 154975, 32378, 71948, 146485, 84936, 58636, 16907, 49052, 86167, 41009, 54124, 62939, 4742, 159660, 1893, 53099, 106137, 67210, 9, 107398, 168083, 127043, 440, 118377, 54958, 103174, 78397, 10373, 135481, 158393, 113768, 98164, 155238, 135707, 36623, 129648, 56768, 121842, 140298, 129369, 109923, 120542, 140716, 42627, 39153, 59769, 92864, 117505, 91661, 69249, 77309, 94191, 15544, 139159, 29960, 23364, 15915, 42857, 164387, 19023, 2015, 74119, 43656, 19151, 11377, 21585, 6757, 141690, 109634, 127207, 133393, 5904, 165521, 168968, 271, 100631, 5847, 144510, 165584, 44907, 129693, 156312, 141183, 63905, 97817, 131112, 14784, 17006, 130070, 129290, 58491, 8106, 62003, 118762, 161794, 40436, 3338, 127096, 119314, 84257, 130047, 69644, 8972, 88789, 11184, 55757, 106126, 71419, 102255, 136638, 52816, 65683, 13571, 158415, 58560, 73171, 2289, 33877, 31923, 164920, 105861, 296, 39965, 131825, 41971, 6455, 1870, 106639, 96527, 98423, 79582, 82303, 31015, 110267, 43826, 164199, 51520, 30920, 66948, 173, 60401, 17391, 47458, 98205, 121306, 73262, 63717, 102590, 29555, 79379, 84987, 102057, 26022, 121346, 131831, 18784, 116711, 87451, 8704, 20941, 51185, 24595, 3987, 162105, 86371, 29200, 146303, 13597, 22436, 125726, 17560, 57242, 104664, 74702, 35471, 129831, 81291, 119917, 158473, 121750, 99112, 139406, 13820, 120019, 163826, 39087, 90613, 159397, 143088, 49712, 124697, 6900, 92741, 69421, 54605, 57987, 17653, 29561, 17255, 94115, 123436, 150925, 122304, 60100, 131660, 53144, 24556, 13087, 63654, 98016, 33496, 6281, 33222, 153763, 71980, 79783, 140226, 7810, 161791, 156438, 122379, 149443, 63111, 5393, 105995, 17269, 50307, 49951, 138132, 144064, 142656, 167811, 20362, 134559, 79244, 52161, 111422, 132578, 12763, 38511, 149592, 14499, 90351, 34576, 11573, 135130, 21395, 71137, 3124, 92507, 91412, 8006, 58668, 15996, 29175, 127343, 82983, 16349, 142343, 49557, 145080, 3015, 74268, 57890, 59793, 160291, 107129, 128618, 20429, 2325, 124738, 162495, 153013, 5533, 113956, 156199, 16599, 79859, 136544, 81534, 15925, 81745, 111295, 11605, 169101, 59137, 68711, 84924, 105904, 75166, 90150, 100172, 40589, 53148, 122437, 124547, 125873, 38470, 119286, 89669, 133266, 85959, 27255, 69383, 146037, 104452, 137359, 15224, 97025, 156194, 9269, 11759, 76873, 60139, 56133, 156675, 152366, 65097, 44745, 71912, 94854, 50597, 47700, 96412, 165741, 139588, 168418, 168234, 77290, 28896, 135778, 108696, 116671, 106223, 53977, 9108, 88178, 44705, 79167, 130545, 76541, 47522, 106835, 59890, 39358, 83196, 1116, 76822, 26058, 39927, 140962, 104982, 66011, 138919, 117033, 70571, 92812, 144206, 129689, 90898, 129224, 129358, 100100, 42524, 22029, 3978, 22540, 118424, 27177, 121388, 57895, 4833, 50031, 146705, 163041, 126486, 31990, 167507, 127048, 31055, 46954, 120508, 158722, 104727, 17983, 3311, 95538, 27570, 22530, 162304, 89774, 50093, 133932, 93039, 161193, 14620, 162383, 93136, 10472, 81962, 46457, 71506, 23808, 57460, 81799, 35462, 47963, 53147, 11016, 19908, 19611, 78324, 74424, 3711, 118934, 40065, 16076, 150306, 94894, 54829, 157138, 71993, 63853, 149975, 127278, 59818, 162940, 152269, 51130, 142609, 103533, 132516, 139246, 40767, 115260, 100832, 136946, 126569, 42770, 48756, 152619, 19406, 10035, 146698, 82969, 10914, 132062, 95215, 148393, 43450, 27785, 161397, 109076, 53150, 84981, 9907, 104713, 122505, 57486, 61989, 103610, 158593, 130065, 42491, 2792, 35031, 164234, 125228, 15908, 96628, 147955, 45120, 33948, 30688, 108884],\n",
      "    \"wiki_cs\": [7527, 3861, 898, 5324, 6859, 8588, 11696, 10954, 9147, 10176, 5735, 9977, 3195, 255, 4417, 3677, 3021, 11035, 6037, 7339, 9642, 572, 201, 5169, 6756, 10717, 9096, 6683, 9941, 5976, 1198, 187, 3130, 7937, 4813, 7825, 8636, 544, 1208, 2640, 9620, 9879, 436, 4047, 5966, 8154, 9695, 6423, 9462, 9740, 9484, 6983, 796, 3288, 7472, 9603, 3230, 5306, 5315, 8359, 9840, 9781, 6239, 3449, 8650, 5427, 2435, 5624, 10434, 1895, 2396, 7732, 10846, 7820, 5212, 11293, 10307, 2538, 7655, 11373, 3800, 2960, 4049, 2143, 6600, 5896, 764, 3430, 4441, 985, 3759, 3480, 1061, 5416, 9832, 6597, 4150, 5348, 6805, 8143, 8490, 6033, 5711, 8490, 5537, 754, 7060, 4061, 4932, 11304, 8695, 4006, 8210, 3781, 73, 3060, 9548, 954, 6903, 7102, 8796, 413, 3061, 8013, 7100, 10347, 10490, 6271, 11454, 9809, 10483, 1188, 4380, 2099, 4231, 8844, 10738, 2921, 4635, 2418, 10322, 10193, 7765, 345, 493, 5941, 220, 6336, 9291, 4275, 2329, 9799, 4607, 7463, 7322, 8036, 11222, 4940, 2747, 364, 11461, 6246, 2380, 6201, 3211, 4972, 6337, 5449, 1196, 10911, 1481, 5330, 5849, 1343, 834, 476, 10301, 6886, 11423, 6053, 7872, 2159, 11594, 5351, 6862, 4354, 9982, 3310, 3927, 9350, 1326, 10111, 7175, 4323, 3227, 656, 6166, 7094, 8377, 8813, 9411, 2613, 1434, 5939, 1888, 1657, 2487, 4512, 2962, 544, 7923, 221, 4675, 9350, 753, 11049, 11059, 8646, 7160, 4856, 4811, 3345, 5039, 11428, 7941, 9715, 7019, 9034, 6042, 3758, 9702, 5381, 3778, 10473, 9267, 2652, 4035, 6500, 5601, 3986, 10744, 6271, 9190, 5197, 9878, 1446, 5308, 9158, 5435, 1957, 6487, 3002, 9656, 10899, 3278, 3104, 799, 8891, 7586, 5554, 1275, 3814, 4651, 2405, 8244, 1758, 8846, 9933, 6418, 5070, 10907, 370, 6422, 10435, 4612, 991, 2530, 11194, 6933, 8427, 11670, 11246, 10874, 10998, 889, 1735, 11096, 4955, 9963, 2292, 4794, 10183, 1335, 4898, 9388, 5802, 2089, 4046, 8991, 11058, 1471, 338, 3974, 1930, 6894, 10388, 5653, 3280, 2768, 7666, 572, 635, 3753, 9797, 2888, 9629, 1754, 6152, 6746, 161, 11117, 9108, 5835, 4170, 9284, 3952, 8903, 5888, 8272, 9947, 9485, 2386, 1956, 7113, 6769, 9768, 2504, 2826, 11496, 9215, 1814, 8013, 9658, 5627, 544, 10807, 8261, 7074, 1675, 8945, 2860, 6515, 3915, 2547, 8236, 9169, 1065, 5294, 5147, 8949, 5683, 11104, 4989, 3388, 7244, 4293, 7794, 6483, 11397, 1299, 7322, 6955, 10301, 11603, 2779, 8076, 1897, 2923, 2720, 4260, 516, 5586, 10120, 5947, 10917, 4361, 6005, 3157, 3422, 6100, 6997, 4699, 1375, 9934, 4150, 883, 10176, 4476, 8093, 10848, 8060, 4999, 7320, 87, 331, 1149, 9795, 2295, 9120, 7953, 3179, 10953, 11334, 8673, 11608, 10738, 362, 6644, 780, 7711, 4813, 4911, 6275, 1038, 8466, 61, 1965, 1358, 8541, 77, 4762, 4709, 9936, 6984, 1715, 8362, 5272, 424, 6794, 8813, 3497, 3354, 5500, 1555, 6788, 67, 3414, 337, 11441, 10100, 11186, 10677, 7922, 1467, 10616, 3379, 5042, 2347, 8532, 11532, 1116, 796, 5213, 11288, 3700, 10456, 1829, 5929, 1987, 3669, 6149, 6854, 3001, 5752, 6585, 3725, 7763, 5160, 6829, 602, 5152, 4809, 880, 10212, 5653, 7388, 11153, 645, 1367, 8972, 9792, 5442, 1781, 5920, 3913, 9060, 4772, 8192, 4849, 8874],\n",
      "    \"twitch\": [11630, 64692, 39769, 99131, 56370, 145128, 15971, 167806, 138416, 132366, 48390, 14263, 9502, 158540, 51862, 52539, 40826, 63082, 46900, 126408, 105930, 88565, 41853, 123191, 126259, 54476, 155327, 143426, 126125, 139153, 69502, 66974, 99757, 58986, 147297, 13902, 95010, 148767, 130134, 57765, 64749, 17787, 62528, 110487, 7235, 132922, 136644, 95334, 39251, 32999, 88194, 38642, 71879, 18347, 67348, 56377, 57661, 28403, 105252, 61957, 120153, 126789, 68129, 141255, 1746, 135861, 134927, 13004, 13875, 129038, 159869, 35540, 132509, 52676, 10177, 47241, 110505, 25479, 97431, 90089, 143109, 167170, 49845, 19468, 68184, 84311, 142439, 112395, 22485, 5124, 130677, 1249, 160864, 76388, 64861, 140962, 46407, 8248, 127858, 58489, 168047, 150717, 103902, 44357, 125274, 40129, 49975, 64675, 3579, 158762, 30886, 34302, 151191, 62906, 153605, 11128, 76739, 41644, 120098, 92679, 25881, 57045, 123318, 83137, 86392, 57871, 147369, 65218, 3232, 117832, 90613, 122058, 13964, 83682, 5254, 78765, 31783, 152091, 56227, 149425, 44019, 35085, 80152, 138115, 105265, 94483, 156142, 66640, 85954, 104289, 61878, 52820, 74131, 116513, 53136, 36051, 14471, 22234, 63030, 36556, 145920, 146150, 125248, 1193, 134046, 61611, 140207, 87743, 25608, 47412, 63330, 101142, 73412, 140782, 133235, 135447, 163236, 59796, 8453, 82196, 144428, 159780, 66432, 20669, 157952, 151662, 101711, 57649, 165278, 165560, 138572, 27269, 36646, 17573, 155970, 102862, 7820, 26277, 167092, 143790, 70823, 40567, 65261, 14719, 45091, 146108, 135759, 74734, 31824, 16821, 165375, 31066, 84045, 125139, 44045, 38775, 72584, 73221, 66421, 10110, 8578, 12811, 70198, 84851, 15610, 161770, 26291, 108521, 11198, 44916, 101839, 92483, 42775, 10062, 5406, 64923, 101513, 115315, 112203, 12571, 79184, 107763, 97354, 88692, 24914, 134314, 14053, 129423, 83500, 39852, 6618, 95950, 113409, 113839, 106689, 44254, 129859, 53974, 111766, 121095, 91785, 31580, 120858, 105426, 40490, 28413, 59684, 90447, 69791, 151413, 49728, 58237, 166832, 102102, 119180, 106507, 26885, 70538, 98811, 18071, 95821, 42183, 70161, 21787, 28429, 82965, 135298, 65727, 136142, 120888, 70344, 109224, 30684, 77671, 84762, 8609, 42367, 11187, 68539, 94660, 162726, 95366, 120616, 96625, 83513, 98013, 133281, 81972, 142985, 136961, 92504, 123489, 60677, 63865, 121900, 75359, 136485, 154914, 146826, 72089, 69553, 95357, 159220, 163802, 111192, 1038, 116635, 2186, 122216, 16298, 165668, 137059, 134577, 117091, 82874, 151746, 79069, 56933, 164328, 141505, 464, 130778, 149578, 167456, 134495, 52745, 85727, 167151, 105489, 129094, 104185, 14665, 30607, 167026, 87784, 144990, 132588, 56731, 99866, 167611, 39211, 60486, 5402, 85672, 34570, 136236, 53000, 150236, 109042, 60401, 160444, 97834, 10113, 126357, 45731, 39050, 110073, 155346, 113729, 16738, 147811, 136089, 8904, 6862, 58456, 6583, 10496, 4074, 16700, 140776, 9647, 130330, 48325, 163864, 137270, 11267, 67030, 56004, 91651, 51433, 164552, 41812, 115069, 101132, 51374, 17570, 126603, 129382, 121488, 70438, 3321, 144520, 93031, 107618, 44035, 1168, 149348, 148611, 6597, 36958, 4748, 101891, 162487, 106009, 58692, 36199, 21082, 108580, 17240, 57243, 9568, 29744, 103477, 135779, 121504, 115314, 20435, 37749, 158055, 34021, 46711, 157142, 7527, 112149, 10518, 132087, 89867, 20051, 117448, 24503, 66284, 16496, 131787, 87034, 154401, 149820, 21105, 92208, 96155, 29116, 106232, 53045, 82098, 159107, 58660, 40954, 110903, 50472, 143495, 91201, 4502, 84287, 133290, 123033, 45885, 15231, 102518, 75353, 146766, 134005, 117613, 18336, 55608, 19826, 147572, 100597, 106747, 157670, 122763, 117506, 164146, 87748, 153863, 104540, 73279, 158520, 48336, 119030, 110498, 65446],\n",
      "    \"re_europe\": [852952, 156927, 1164260, 286074, 218156, 1185933, 1621564, 98999, 543550, 97014, 372484, 747325, 870625, 285566, 127773, 574523, 1370693, 1224619, 707751, 136159, 1354547, 951819, 1523252, 75087, 1115994, 964490, 1228788, 353570, 240416, 1526196, 552469, 30382, 1328226, 354300, 529834, 1593603, 706556, 834252, 1402987, 1244758, 929082, 1435570, 1521969, 622510, 138964, 858800, 547969, 966198, 971876, 433914, 971823, 1502918, 1429048, 1004821, 162096, 250551, 672223, 555542, 408426, 526438, 61345, 900230, 497823, 549089, 1137328, 1515443, 124645, 440480, 1534911, 588428, 57354, 20881, 1489373, 241554, 1062001, 642572, 1338210, 492507, 21794, 447462, 575553, 779870, 904257, 727402, 59030, 1493813, 1360969, 1438991, 1605389, 1447855, 1141410, 3097, 201534, 90432, 729180, 772108, 218536, 437812, 696434, 231599, 511453, 1017958, 328014, 530460, 1231465, 455429, 1540461, 882378, 331082, 512569, 343409, 901754, 419293, 397943, 504474, 337842, 1358335, 888196, 942529, 403819, 246366, 963288, 452814, 1607805, 303062, 455361, 527518, 1289265, 254251, 957295, 504504, 1365893, 169979, 753871, 662974, 1149498, 1623185, 409278, 608362, 1460556, 1327317, 94521, 89519, 1279755, 1322772, 1626083, 99577, 1267244, 15675, 249045, 553592, 1385214, 1460823, 1605128, 1269073, 1108939, 1611262, 402725, 1373445, 1066994, 1191924, 691400, 468205, 1366123, 1401917, 333407, 24641, 14006, 379256, 762704, 118262, 674688, 145155, 1175557, 125916, 1096836, 792599, 829925, 1228435, 1002169, 434232, 129213, 1153261, 128494, 680930, 658534, 1496845, 613091, 408947, 625509, 264563, 413054, 1451319, 551133, 954818, 1072184, 398803, 809758, 927811, 64549, 851309, 248136, 786827, 1480162, 1038893, 916861, 201714, 1130473, 1392178, 1376399, 147193, 7794, 968541, 295998, 1513801, 1203368, 969009, 275557, 750516, 844509, 607598, 803969, 1239960, 216224, 1114857, 773784, 595400, 1237444, 1386719, 964984, 11812, 508340, 1461775, 1363601, 44854, 1173334, 1428597, 851827, 251503, 298027, 1573902, 796008, 538736, 1012522, 250142, 822060, 772118, 92453, 873872, 1073831, 336760, 1203235, 1498002, 912783, 151393, 1324981, 654888, 1434372, 1124724, 984037, 523388, 979434, 1205924, 1415719, 587920, 1413868, 1481192, 1474235, 1331420, 205258, 1292613, 485941, 724041, 683288, 1350703, 1302162, 1101826, 1374327, 70656, 1087592, 1424634, 941005, 680068, 1352939, 1442398, 360673, 346897, 44194, 162253, 311897, 1225127, 922279, 1219269, 1384684, 1340856, 1249052, 553678, 480913, 113845, 888790, 725345, 793531, 811949, 1219398, 212221, 930384, 440600, 107429, 1324287, 287619, 716418, 416941, 713665, 1447821, 1625296, 1577141, 488421, 992617, 20717, 1103214, 1540525, 112286, 1399050, 1591861, 1400358, 383768, 559907, 1211789, 1528454, 539139, 306941, 1436221, 839043, 409102, 111151, 1001005, 645797, 716304, 920092, 921283, 457924, 597711, 590369, 1168453, 1102457, 41896, 87881, 1025175, 265430, 159877, 713823, 1134358, 947612, 1213975, 1344394, 1108258, 105014, 324510, 675866, 1130278, 1551129, 703, 564708, 1041704, 160083, 791215, 419023, 1257069, 135139, 1022148, 886979, 1435977, 1163997, 1324236, 323512, 600114, 298643, 514707, 1557641, 1009788, 575678, 202698, 859743, 188940, 883116, 806874, 76936, 181767, 328993, 182335, 451558, 292608, 796619, 1258153, 1481209, 93742, 768910, 1238012, 1441902, 1085146, 645395, 994688, 1381642, 426598, 1150024, 1368435, 598527, 1613835, 960710, 605901, 178167, 1525741, 896222, 595013, 1326283, 1098458, 1550402, 148047, 1595759, 1557083, 210022, 1213879, 650559, 93534, 1520272, 1316545, 1261374, 1495267, 747899, 1593344, 1284566, 1159017, 334650, 1570349, 718788, 1191638, 1092901, 187116, 414669, 722110, 664861, 1010178, 317072, 450864, 49647, 1196141, 250603, 888065, 913026, 604829, 1366236, 1262877, 1319048, 177580, 1040403, 447463, 687136, 1044233, 1342444, 1291649, 535089, 920802, 617968, 848745, 316479, 1198828, 800836, 1581806, 1618960, 790047, 49711, 1331249, 619510, 1295723, 789398, 677623, 805089, 361899, 1618260, 298968, 113691, 601115, 1284125, 589343, 1262175, 972972, 89364, 1165455, 1241440, 773257, 120443, 117063, 670767, 1512311, 1579953, 1205934, 305084, 523844, 745548, 535576],\n",
      "    \"oag_scholar_interest\": [50639, 1011736, 159072, 559974, 19005, 2348271, 83687, 77027, 2314542, 2974868, 611103, 179151, 1593041, 3004034, 2079523, 62775, 12534, 112949, 3055985, 50699, 395119, 195159, 530833, 200438, 556443, 41141, 157596, 464908, 47845, 37000, 56340, 3005463, 70172, 200440, 645124, 376826, 497527, 235521, 40027, 102534, 3089720, 229547, 149229, 903038, 234090, 33189, 589809, 698936, 132984, 1947975, 692842, 31276, 712595, 53285, 1532742, 196249, 2081504, 570926, 561779, 400061, 6848, 210463, 1513963, 1651860, 3168073, 3056379, 49143, 130455, 1338446, 1682756, 2213514, 97789, 2355740, 125734, 273280, 341335, 66351, 1479121, 31736, 733375, 61147, 1150286, 87669, 782093, 145647, 18619, 3003574, 1531859, 76183, 444384, 774862, 2185944, 73261, 37150, 949203, 433990, 3054661, 3066056, 1226989, 2172638, 434500, 1269003, 853850, 3084513, 1954079, 2289973, 38885, 2366359, 850280, 88250, 438818, 255678, 202728, 449391, 653477, 3152971, 287270, 172977, 1477189, 541444, 81481, 1011896, 2358775, 48017, 73099, 3135878, 57361, 199963, 9158, 680845, 42276, 14421, 35568, 77478, 1052737, 231132, 1794176, 323037, 284473, 18143, 1514785, 645525, 160845, 18643, 151027, 225105, 366740, 106625, 3097732, 318037, 98480, 2782103, 1053892, 34837, 3101802, 9230, 317036, 39848, 1873273, 1701117, 53659, 262351, 1334312, 698116, 660951, 132466, 24599, 3095694, 67473, 462019, 108938, 201666, 945220, 605335, 101308, 61283, 574447, 3056271, 18778, 448722, 125027, 195893, 1368588, 852303, 97996, 341961, 590701, 27730, 150424, 196838, 379562, 3017278, 610694, 3017644, 1306851, 36034, 430158, 3055634, 114081, 17840, 150576, 12093, 1271896, 657696, 579401, 95767, 40304, 95811, 36058, 1394326, 448687, 6426, 193686, 134224, 716868, 55256, 981861, 329671, 178797, 258605, 371713, 2391497, 533348, 2342360, 39170, 3056355, 158830, 143628, 462560, 535214, 185390, 182550, 119067, 2360353, 61340, 8178, 499242, 2707772, 338560, 2784399, 87470, 721601, 192760, 430162, 2088505, 1817473, 1746457, 3001324, 2347661, 780914, 3129251, 1717, 134113, 3141261, 106834, 1104809, 262834, 1615256, 242427, 3084678, 593260, 3088054, 163345, 107462, 2285640, 125176, 118860, 35190, 410596, 961055, 3021682, 554961, 2970463, 2148577, 53754, 1496243, 481223, 3046283, 124260, 79037, 645913, 52057, 39155, 172892, 3126887, 410841, 2282425, 924052, 496725, 2984541, 711778, 3115805, 2969301, 303002, 8276, 2996715, 2211212, 3135254, 2480525, 3122513, 79453, 42903, 226128, 56847, 1562548, 245330, 562374, 24231, 182517, 1996589, 342663, 2336974, 112870, 576399, 168979, 1216816, 778724, 2096714, 49020, 1771204, 2264504, 2334911, 112456, 3138438, 333092, 2401000, 588800, 72653, 42424, 473552, 2918626, 15539, 94755, 137198, 1126248, 772095, 418379, 3135204, 2826420, 60787, 42557, 2121730, 486595, 1244666, 151775, 82007, 69780, 76556, 3096067, 181027, 2268344, 197513, 1032186, 284154, 1289080, 176340, 3125596, 35315, 3133347, 4297, 72551, 5973, 92144, 1013303, 1656330, 1297681, 32264, 44580, 2379614, 18237, 1925760, 692858, 19826, 2185974, 109680, 144311, 1133454, 115426, 163034, 3072209, 331882, 12439, 77651, 207894, 1407891, 3149290, 1719967, 1241931, 152576, 100878, 1120772, 8504, 1688099, 238196, 102959, 366864, 61719, 1153942, 125791, 685873, 3087082, 138105, 8610, 110504, 163001, 1478386, 424860, 363135, 3065748, 325336, 62794, 78804, 740590, 45275, 137365, 1350812, 43151, 2687315, 31793, 332477, 3158657, 958215, 10480, 2907466, 1238114, 137899, 223451, 450039, 1023611, 207586, 35409, 35227, 666169, 356867, 43599, 280983, 143234, 6687, 131841, 131075, 260882, 420364, 1573282, 20325, 94042, 3099476, 536106, 25169, 339626, 52634, 8770, 266098, 2109046, 1917203, 1133540, 1154725, 1101605, 68479, 365515, 21917, 1729999, 13750, 128588, 35734, 96283, 53918, 1399115, 1706763, 2937811, 23239, 2203239, 331745, 2194492, 40021, 488383, 510966, 54939, 2211764, 854, 32068, 2155129, 3048866, 71546, 177126, 2204706, 68663, 110068, 2076516, 3075702, 780322, 62383, 833031, 1107708, 1241104, 1928293, 116757, 2199845, 10887, 416164, 282660],\n",
      "    \"fb15k237\": [[11528, 2949, 1], [4430, 6021, 1], [10910, 7355, 0], [14153, 10398, 0], [4905, 12076, 0], [3943, 2314, 0], [12577, 310, 0], [11989, 689, 0], [2303, 14122, 0], [13595, 5462, 0], [722, 13125, 0], [9160, 6262, 0], [6038, 5613, 0], [12081, 9909, 0], [12012, 4498, 0], [2454, 8085, 0], [3640, 1112, 0], [11832, 4042, 0], [926, 2329, 0], [9805, 13219, 0], [4933, 14477, 0], [8150, 14449, 0], [1436, 1436, 0], [9039, 2447, 0], [12935, 11504, 0], [2114, 10262, 0], [4482, 10517, 0], [3997, 5391, 0], [3381, 3381, 1], [9215, 12482, 0], [5399, 5399, 1], [8085, 10262, 0], [13585, 11318, 0], [9894, 7983, 0], [14022, 3968, 0], [8487, 13390, 0], [7360, 3918, 0], [1626, 8557, 0], [6203, 4184, 1], [861, 11831, 0], [11701, 4844, 0], [1443, 9096, 0], [11773, 5697, 0], [5559, 9325, 0], [13061, 7717, 0], [9813, 7545, 0], [12248, 6659, 0], [8647, 12691, 0], [7125, 5559, 1], [10804, 13400, 0], [13831, 12946, 0], [13843, 12946, 0], [12069, 12697, 0], [7481, 2066, 0], [6538, 13217, 0], [13895, 7662, 0], [9955, 7710, 1], [1669, 8333, 0], [14258, 5006, 0], [699, 12771, 0], [3392, 8234, 0], [5912, 2399, 0], [4339, 4339, 0], [2766, 4359, 0], [7957, 11727, 0], [12233, 10398, 0], [1107, 9181, 0], [1865, 1674, 0], [2557, 1965, 0], [1838, 1157, 0], [13960, 12946, 0], [13962, 4359, 0], [7086, 6573, 0], [4482, 1088, 0], [11277, 1939, 0], [14228, 14228, 0], [14298, 10398, 0], [3871, 2447, 0], [1823, 13085, 0], [8693, 11989, 1], [13276, 11746, 0], [6581, 1133, 1], [1194, 1194, 1], [9792, 10967, 0], [830, 8298, 0], [7263, 11336, 1], [4490, 8146, 0], [10093, 4431, 0], [5990, 3968, 0], [9873, 2342, 0], [10088, 13219, 1], [13416, 979, 1], [8693, 3392, 0], [4536, 9992, 0], [11879, 11321, 0], [14040, 14040, 0], [9613, 7888, 0], [9223, 12996, 0], [10088, 4431, 0], [11553, 13454, 0], [10594, 1950, 0], [9276, 5871, 0], [11738, 6530, 0], [12243, 1950, 1], [855, 7453, 0], [10721, 10721, 0], [6851, 1652, 1], [8233, 7611, 0], [10506, 11916, 0], [139, 13107, 3], [12978, 10398, 0], [218, 4349, 1], [11773, 2609, 0], [9317, 337, 0], [9873, 1201, 0], [4656, 4656, 0], [3153, 5839, 0], [4085, 14170, 0], [3266, 3266, 0], [357, 14170, 0], [1400, 7453, 0], [4193, 3765, 0], [3392, 11711, 0], [1929, 8333, 0], [5147, 5147, 0], [3036, 3036, 1], [4613, 8489, 0], [11527, 11527, 0], [8995, 8896, 0], [581, 10558, 0], [11716, 4037, 1], [12541, 4559, 1], [6088, 6088, 0], [12747, 1430, 0], [11504, 13386, 0], [1838, 1838, 0], [11503, 13386, 1], [236, 9808, 0], [9296, 9089, 0], [12248, 9992, 0], [7699, 1429, 0], [11854, 9433, 0], [11503, 12970, 1], [13276, 7314, 0], [531, 4359, 0], [4154, 14170, 0], [12893, 4359, 0], [7584, 7588, 0], [10747, 1092, 0], [11038, 9905, 0], [1561, 8506, 0], [9873, 5127, 0], [4607, 4607, 1], [3850, 1554, 0], [7377, 2629, 0], [14524, 11955, 0], [6214, 13740, 0], [9205, 13944, 0], [6905, 3968, 0], [4085, 9937, 0], [10463, 7526, 0], [599, 5136, 0], [12477, 11928, 0], [7866, 6531, 1], [4918, 14525, 1], [3640, 213, 0], [2734, 7453, 0], [2976, 8106, 0], [8892, 1043, 0], [2327, 2560, 0], [1096, 13122, 0], [4735, 4735, 0], [9215, 9198, 0], [1980, 4359, 0], [4784, 12955, 0], [7755, 13216, 0], [11504, 98, 0], [14070, 10398, 0], [13032, 3279, 0], [1440, 1554, 0], [3183, 3183, 0], [1993, 8085, 0], [4621, 8892, 0], [4627, 10398, 0], [3310, 7232, 0], [9283, 12771, 0], [6565, 4431, 0], [11771, 9987, 0], [13999, 14405, 0], [12123, 13337, 1], [6166, 14330, 0], [6183, 11651, 0], [4277, 4277, 1], [9935, 885, 1], [11316, 4922, 1], [7076, 10385, 0], [10512, 5862, 0], [9281, 979, 0], [12180, 10466, 0], [1883, 1281, 0], [561, 4431, 0], [13788, 4359, 0], [10291, 7875, 0], [4475, 4431, 0], [13276, 8412, 0], [12596, 10768, 0], [8150, 4650, 0], [816, 816, 1], [10878, 5613, 0], [13755, 8234, 0], [12483, 4697, 0], [4591, 10285, 1], [11504, 10926, 0], [4482, 4470, 0], [445, 6820, 0], [10930, 13125, 0], [8152, 4325, 0], [13276, 5697, 0], [7896, 4225, 0], [6143, 4953, 0], [2, 12946, 0], [14160, 14160, 0], [385, 2428, 1], [12259, 5770, 0], [8371, 9116, 0], [8471, 7453, 0], [4516, 9034, 0], [13276, 2379, 0], [7310, 5862, 0], [12477, 6385, 0], [12639, 8371, 0], [9589, 4359, 0], [10762, 3713, 0], [6391, 5862, 0], [1199, 4595, 0], [9723, 5943, 0], [833, 6568, 0], [280, 2790, 0], [1105, 2006, 0], [2334, 9091, 2], [6673, 10345, 0], [3392, 3392, 0], [5094, 11234, 0], [4362, 11904, 0], [8717, 2273, 0], [5396, 6884, 0], [12747, 13385, 0], [2114, 3238, 0], [8233, 10398, 2], [2115, 9034, 0], [12124, 1873, 1], [7957, 14417, 0], [4514, 7615, 0], [5051, 2447, 0], [4456, 8175, 0], [4011, 6158, 0], [2597, 11445, 0], [4580, 4580, 0], [8693, 3263, 0], [13543, 13543, 0], [7544, 4755, 0], [1220, 8049, 0], [6661, 8767, 0], [14170, 7611, 0], [5400, 12, 0], [10787, 14525, 0], [14288, 8333, 0], [3807, 11173, 0], [9873, 9963, 0], [7975, 9524, 0], [8709, 6317, 1], [3968, 8085, 0], [12970, 11429, 0], [10946, 5862, 0], [1641, 493, 0], [13004, 12238, 0], [11557, 11387, 1], [310, 4314, 0], [13445, 13445, 0], [3103, 4646, 0], [2534, 2534, 0], [8525, 2431, 0], [4663, 4879, 0], [1096, 12286, 0], [2692, 13289, 0], [12244, 12946, 0], [9356, 8179, 0], [13919, 5702, 0], [12223, 7375, 1], [9821, 4431, 0], [14186, 12946, 0], [9458, 12905, 0], [5617, 4359, 0], [2829, 7453, 0], [11054, 9451, 1], [387, 13580, 0], [10092, 1153, 0], [7516, 12731, 0], [12084, 9492, 0], [7691, 11314, 0], [7635, 11518, 0], [11318, 8945, 0], [13232, 13232, 0], [7809, 10398, 3], [7456, 7456, 1], [12865, 1554, 0], [14295, 14295, 0], [3479, 8198, 1], [2069, 10534, 0], [5319, 137, 0], [2011, 13400, 0], [7843, 7843, 0], [8693, 6529, 0], [1987, 6820, 0], [6975, 14072, 0], [12651, 7611, 0], [8122, 4431, 0], [463, 11454, 0], [7691, 12738, 1], [11965, 4178, 0], [8693, 7185, 1], [11764, 12946, 0], [13943, 5862, 0], [10016, 8848, 2], [3078, 9841, 0], [2758, 13786, 0], [1377, 13585, 0], [11972, 2958, 0], [1366, 3425, 0], [10528, 1527, 0], [13577, 4359, 0], [10373, 4998, 0], [7710, 3968, 0], [13297, 2969, 0], [10092, 5187, 0], [10709, 4367, 1], [13030, 1813, 0], [13408, 12792, 1], [14406, 8506, 0], [11989, 14243, 0], [2551, 2551, 1], [9465, 5643, 0], [2059, 5913, 0], [13952, 1264, 0], [8255, 2285, 0], [9311, 8742, 0], [3738, 14057, 0], [8387, 692, 0], [10482, 3541, 0], [196, 10704, 1], [10967, 10398, 0], [5359, 5566, 0], [10910, 2072, 0], [477, 9198, 0], [12568, 8022, 0], [14530, 12771, 0], [12391, 8233, 0], [14438, 4697, 0], [2114, 10398, 3], [6436, 6436, 0], [387, 7360, 0], [4475, 5136, 0], [4598, 4598, 0], [2403, 3968, 0], [4960, 4960, 0], [4156, 6820, 0], [3881, 8481, 0], [1027, 9792, 0], [12348, 12348, 0], [13646, 10398, 0], [6934, 7738, 0], [4925, 4359, 0], [8080, 8506, 0], [8160, 7469, 0], [9139, 13467, 0], [2251, 5475, 0], [8692, 8527, 0], [14193, 12946, 0], [13999, 14115, 0], [12651, 11224, 0], [9873, 2309, 0], [13088, 10477, 0], [2103, 10541, 0], [13032, 1762, 0], [5150, 12445, 0], [4510, 9808, 0], [9329, 8085, 0], [3881, 3610, 0], [10798, 5302, 0], [9841, 14330, 0], [1595, 10398, 0], [10127, 4359, 0], [55, 4142, 0], [9638, 12004, 0], [14277, 12946, 0], [349, 349, 0], [9148, 903, 1], [9792, 2070, 0], [7960, 13014, 0], [11924, 10398, 0], [11241, 11241, 0], [10214, 8961, 0], [13329, 10541, 0], [11989, 10670, 0], [11503, 13217, 0], [2335, 6630, 0], [14105, 14105, 0], [13468, 13468, 0], [14259, 10398, 0], [1791, 10564, 0], [8693, 5421, 0], [10594, 7175, 1], [4480, 9802, 0], [5839, 14255, 0], [9224, 14142, 0], [3848, 14100, 0], [2708, 4142, 0], [13806, 12946, 0], [6103, 10769, 1], [9665, 2711, 0], [8497, 8373, 0], [4454, 5462, 0], [410, 410, 1], [9201, 12482, 0], [1114, 9775, 0], [8347, 7086, 0], [7134, 8734, 0], [7744, 11205, 0], [2285, 1554, 0], [9873, 373, 0], [6474, 6474, 1], [8613, 861, 0], [4716, 11519, 0], [699, 7658, 0], [2509, 13025, 0], [11822, 11227, 2], [7601, 12546, 0], [3772, 11573, 0], [14126, 12946, 0], [14315, 14315, 0], [11422, 10398, 0], [13135, 9129, 0], [2309, 2309, 0], [3260, 11062, 0], [10502, 10502, 1], [8886, 13217, 0], [5781, 5781, 1], [9073, 10129, 0], [6508, 9992, 0], [656, 11926, 1], [9792, 14244, 0], [11067, 11067, 0], [8399, 10398, 1], [8487, 10804, 0], [7058, 3435, 0], [8692, 7352, 0], [11518, 13219, 0], [56, 3968, 0], [8556, 8556, 1], [12257, 4136, 0], [1194, 10408, 0], [10438, 11918, 0], [11655, 5909, 0], [10206, 4003, 0], [5324, 14496, 0], [9215, 9474, 0], [3653, 7329, 1], [11445, 8078, 0], [12994, 9802, 0], [10139, 7036, 0], [1832, 1832, 0], [13517, 6945, 0], [12477, 10017, 0], [3327, 10541, 0], [8693, 12374, 1], [5839, 13812, 0], [1088, 5862, 0], [7839, 8610, 0], [240, 5623, 0], [5015, 9337, 1], [387, 5766, 0], [7601, 13486, 0], [8085, 1043, 0], [14024, 2611, 0], [7444, 13119, 0], [1151, 3434, 0], [14330, 5314, 0], [2126, 6287, 0], [8128, 13219, 0], [12494, 8449, 0], [6369, 9081, 0], [12820, 11003, 0], [8693, 9566, 0], [8355, 8355, 1], [13110, 8168, 0], [8903, 9225, 0], [2453, 629, 0], [8771, 8881, 1], [12286, 7219, 0], [10861, 8487, 2]],\n",
      "    \"ogbl_vessel\": [[1220018, 1210418], [763068, 758718], [2425296, 2427986], [665292, 671297], [1409060, 1406480], [1638884, 1660322], [2006733, 2028276], [780206, 714914], [3247056, 3250557], [359711, 359714], [1503266, 1500701], [827121, 842893], [1680766, 1656981], [3475707, 3471226], [425253, 421973], [143942, 1947032], [1729728, 1715319], [934856, 925192], [1776032, 1771155], [3480661, 3479906], [1873789, 1866208], [1038449, 1059958], [277759, 2720], [383157, 394160], [829660, 823044], [458375, 461968], [2133471, 2103014], [2205603, 2216756], [1930498, 1941154], [1444103, 1462353], [1045616, 1043268], [2412611, 2383073], [1739828, 1754273], [2003552, 1998048], [2981106, 3041712], [1940891, 1951502], [1231987, 1244337], [1109662, 1104864], [908571, 924698], [1803629, 1823702], [2259767, 2265227], [899751, 911294], [2782711, 2807783], [3319131, 3311072], [2416237, 2421575], [1343750, 1354156], [1726189, 1714004], [755041, 739974], [1929221, 1969250], [2092053, 2147412], [2155819, 2158786], [1074405, 1091842], [3190011, 3199208], [725577, 710556], [3266422, 3290032], [2692985, 2680876], [1675975, 1692868], [1909246, 1917030], [1166136, 1138722], [1892895, 1890366], [3158634, 3141914], [626388, 606860], [1282042, 1279450], [434282, 434281], [1009035, 985613], [2603486, 2593507], [797121, 788429], [1580328, 1570052], [886517, 884269], [965694, 965714], [3229245, 3243497], [1601451, 1638140], [771982, 789686], [1023486, 1033186], [1442691, 1437486], [1286391, 1288907], [1655811, 1670129], [667854, 680209], [2674628, 2664828], [1749938, 1752432], [2209760, 2212585], [686351, 701109], [959471, 956965], [1509989, 1509998], [2812009, 2807498], [935235, 930392], [3458214, 3455618], [1600204, 1595159], [2421534, 2386632], [3241030, 3244582], [1168592, 1143740], [3285613, 3310693], [2816479, 2823314], [1483167, 1470353], [1836434, 1826444], [2379466, 2408962], [664980, 666949], [1226372, 1231348], [2192647, 2170216], [3160063, 3152676], [1289030, 1286531], [2193572, 2165511], [357309, 364210], [3190874, 3187085], [829821, 48947], [2210141, 2179404], [798000, 789271], [3157186, 3175655], [1711256, 1742505], [1995840, 1998592], [3127619, 3112851], [2380942, 2405076], [2270443, 2212118], [830997, 837758], [2176645, 2213065], [552480, 573348], [691504, 738752], [672347, 664361], [2182171, 2224308], [1687179, 1632006], [882058, 886593], [2846489, 2857446], [596096, 615581], [739779, 746340], [1465797, 1465799], [375047, 370676], [2583604, 2578466], [1328343, 1341984], [1667152, 1667156], [124753, 1718726], [1060293, 1077039], [2199986, 2277798], [2289348, 2278334], [3338048, 3339569], [550583, 542976], [2625126, 2605122], [3199285, 3197434], [1495874, 1495863], [1741571, 1756191], [1331440, 1347644], [2112296, 2106777], [2374801, 2372181], [796994, 803589], [2231264, 2250876], [1799818, 1797273], [918473, 54835], [2007635, 1994042], [1203597, 1176095], [636905, 648788], [2894508, 2890167], [373979, 363780], [661060, 651087], [2067072, 2034326], [444021, 449176], [1895929, 1860749], [3015805, 3019920], [3296059, 3294401], [3301889, 3296881], [2836381, 2840845], [368787, 370217], [1189420, 1177013], [3208758, 3215975], [3324627, 3308704], [2567396, 2552414], [764571, 758064], [3374421, 3382035], [1894899, 1882288], [1048448, 1041398], [253911, 254995], [2861106, 2885123], [3349127, 3353333], [2703406, 2733564], [2444177, 2473477], [2114801, 2103688], [3081802, 3089231], [3071395, 3067562], [836257, 836262], [1984033, 2024434], [2481783, 2463262], [1793476, 1778684], [307641, 302834], [2257814, 2230067], [1167313, 1177018], [1376154, 1393959], [1758629, 1758620], [925269, 915900], [2944411, 2973392], [557168, 559017], [745069, 738471], [1867884, 1860475], [833600, 835854], [1246348, 1251247], [2649858, 2634998], [2278158, 161742], [780234, 777979], [1028013, 1016155], [571389, 563767], [2943046, 2959473], [2657353, 2667063], [2867531, 2869640], [1506232, 1519170], [3360572, 3341997], [2447109, 2447108], [1074715, 1062897], [1459319, 1451517], [2478687, 2473526], [2039594, 2028888], [725110, 684667], [939103, 948662], [1677420, 1675010], [1271052, 1248630], [3260287, 3263771], [2684420, 2684414], [309735, 307704], [2388572, 2377764], [3260857, 3241506], [2680079, 2655762], [343490, 348759], [3034973, 3029139], [280094, 278093], [314117, 319344], [2006253, 2003594], [1923679, 1934304], [1121978, 1102395], [2277660, 2280467], [616204, 614242], [3277044, 3266846], [862641, 846815], [1686904, 1653410], [2085148, 2096231], [2824931, 2831619], [3297628, 3344713], [2594996, 2600131], [2717673, 2724562], [340923, 338443], [1431575, 1423839], [2511742, 2516952], [2950828, 2950826], [412277, 408973], [2842086, 2824143], [1858752, 1868692], [47454, 757626], [2330107, 2308509], [2663626, 2658789], [1923502, 1934148], [2169964, 2153066], [1218555, 1245884], [1613105, 1608222], [2746887, 2779296], [1959028, 1975018], [3294994, 3290001], [988443, 999949], [1371426, 1345391], [1141043, 1126513], [2879853, 2888638], [2289501, 2289498], [147479, 2141953], [520499, 482119], [3363559, 3373018], [3478880, 3483298], [807364, 827218], [1169713, 1167298], [2232515, 2210093], [1559065, 1582191], [1339119, 1333621], [3066575, 3076015], [1058922, 1088128], [981646, 986257], [1451982, 1451977], [2216139, 2165701], [2218864, 2227304], [1148258, 1148265], [1359737, 1377941], [1859904, 1857348], [2573383, 2583489], [2258439, 2213885], [1259613, 1252096], [503546, 525721], [2632934, 2640366], [535579, 548868], [3102967, 3099231], [1768074, 1775416], [453316, 448056], [1037457, 1011465], [3058043, 3065449], [944492, 63474], [646525, 642513], [1478472, 1460309], [1730891, 1706691], [1534315, 1544923], [1305504, 1300242], [2959173, 2967470], [1231209, 1204212], [1358768, 1366684], [3483492, 3488262], [1433481, 1430848], [3089046, 3094491], [2393554, 2401456], [2848835, 2857683], [639077, 643029], [1960630, 1971195], [2878099, 2869258], [1206576, 1194005], [2712078, 2728258], [1162162, 1157131], [3161688, 3145012], [1349312, 1357039], [1528909, 1526340], [1921184, 1895650], [3233215, 3220700], [1190945, 1218062], [2937056, 2943304], [2775415, 2768548], [1838581, 1843543], [1544476, 1570124], [816564, 836685], [3349077, 3323633], [1314138, 1335417], [1987925, 1995942], [3193998, 3205042], [2913926, 2941241], [3042960, 3046809], [1595119, 1582663], [665129, 677412], [1117943, 1117941], [318596, 319692], [3512833, 3515594], [871887, 871894], [3220830, 3208272], [582706, 580845], [1086290, 1061955], [1464582, 1474920], [1907655, 1925882], [3015794, 3019910], [1006568, 999422], [3037815, 3032064], [3424379, 3429448], [3348801, 3351632], [628842, 621010], [3145229, 3104583], [2111730, 2131144], [1073048, 1082916], [632612, 644352], [1530340, 1540977], [1153487, 1150995], [1936928, 1931632], [3118587, 3127724], [2647934, 2657797], [1549875, 1542164], [1019279, 1019276], [1766987, 1769415], [831225, 826674], [1331789, 1295128], [1231381, 1223821], [3175082, 3188344], [960196, 976572], [2524551, 2540089], [3071910, 3043628], [2192353, 2192356], [2317494, 2303913], [362181, 353983], [2575431, 2562934], [338959, 344021], [552696, 588790], [2161053, 2161060], [2912167, 2894842], [3480988, 3479481], [763683, 792382], [978603, 999409], [413144, 414795], [1075783, 1098029], [1369254, 1361455], [2484686, 2484687], [3167751, 3153027], [1882868, 1865243], [3011336, 3039509], [1873400, 1880940], [1223895, 1233953], [3068678, 3064964], [2823843, 2826061], [2412463, 2433948], [1502506, 1520572], [2435145, 2472501], [2340072, 2383096], [424811, 419871], [3093766, 3093764], [3293074, 3299810], [1199843, 1216915], [1209140, 1206662], [2652909, 2667489], [2278585, 2264723], [860340, 874403], [414896, 398724], [2774905, 2786316], [2579395, 2597175], [2818982, 2821252], [2157187, 2154341], [2066181, 2038732], [301415, 298661], [2213157, 2235578], [1406132, 1414054], [3064370, 3066203], [2083639, 2075342], [2954905, 2956941], [2185947, 2188699], [805668, 810128], [2935699, 2931608], [1436301, 1423367], [1880424, 1877965], [3075925, 3079607], [915420, 910908], [2591076, 2565836], [3265050, 3275330], [3525308, 3526698], [1901159, 1927041], [380209, 375725], [1530481, 1530477], [982349, 973035], [1421736, 1434670], [379440, 382406], [1810996, 1810991], [3381995, 3377108], [1188850, 1208942], [548586, 548590], [2193041, 2167817], [1904028, 1904025], [2953276, 2941049], [2636398, 2621508], [2881495, 2941351], [995065, 64412], [1561127, 1594178], [1047728, 1081536], [238262, 3281912], [1403771, 1417005], [2051218, 2067589], [1161982, 1176600], [2272734, 2267295], [228747, 3137132], [487117, 488896], [3521398, 3522365], [2708184, 2726576], [2107434, 2093757], [420551, 407434], [99973, 1475802], [3176461, 3172733], [1236173, 1255946], [3492818, 3490291], [2260328, 162043], [3002877, 3004909], [1451802, 1446513], [3478836, 3473730], [2341815, 2341821], [1384870, 1382384], [1106703, 1116634], [1419395, 1419389], [678861, 664612], [843538, 843535], [2424646, 2416558], [2310850, 2289308], [3390259, 3391438], [811689, 809459], [2137056, 2128798], [3159772, 3156059], [880750, 841937], [2941090, 2951247], [3402767, 3387788], [1645059, 1637856], [2835075, 2823836], [316684, 310614], [1013100, 1022425], [439719, 485906], [3371518, 3363277], [1470063, 1451897], [2749655, 2782069], [1217593, 1247369], [1531351, 1515580], [3124507, 3100657], [252328, 250971], [2511973, 2459543], [1726758, 1721862], [1168106, 1175358], [443544, 446972], [1881974, 1892130], [1103297, 1103301], [2236872, 161987], [2323099, 2306890], [2192738, 2201266], [1430896, 1430906], [1780162, 1792479], [2293874, 2307384], [1294325, 1284414], [406289, 411212], [1188668, 1188679], [954470, 949694], [855292, 892018], [2892199, 2903006], [3035118, 3027239], [2270267, 2281393], [1137088, 1166940], [848379, 834842]],\n",
      "    \"movielens1m\": [[1915, 912], [4071, 1176], [6035, 148], [2995, 1539], [4304, 2081], [549, 461], [1925, 3306], [3685, 2789], [3486, 219], [4015, 1468], [3608, 593], [5922, 315], [5674, 2358], [2333, 3299], [1855, 3458], [849, 2452], [1146, 1172], [3878, 3570], [254, 1166], [1180, 2158], [4677, 476], [3743, 1231], [720, 1], [2610, 3293], [4407, 3429], [236, 733], [156, 2502], [5360, 593], [33, 2091], [5272, 3021], [2202, 1849], [1339, 1358], [1911, 1015], [4077, 3767], [2792, 2917], [3351, 3624], [2462, 1271], [4240, 2025], [1247, 1373], [648, 1220], [4078, 2105], [1217, 3150], [1448, 3203], [3216, 2300], [2780, 1395], [1607, 2499], [687, 1236], [3319, 1354], [2667, 2459], [3704, 3355], [2558, 2694], [5971, 3740], [4061, 2502], [1541, 2364], [5789, 1179], [333, 1211], [880, 510], [4203, 2174], [5637, 604], [5219, 3043], [3835, 1384], [3400, 2456], [1051, 2174], [2678, 768], [5255, 1636], [1240, 1533], [3899, 510], [1483, 2055], [1610, 102], [1447, 2297], [4053, 3286], [4166, 1113], [2301, 1227], [2347, 3361], [1078, 222], [5737, 2049], [112, 69], [1284, 634], [122, 5], [3538, 1539], [2761, 2879], [833, 2337], [628, 907], [1410, 1176], [2365, 1364], [4107, 3399], [1738, 3878], [4343, 1273], [5758, 1220], [3686, 450], [1357, 2547], [4532, 1046], [3538, 1634], [4032, 1063], [203, 908], [779, 1812], [4867, 3012], [1483, 1104], [4070, 2724], [437, 1683], [1631, 2171], [3833, 2917], [1943, 589], [5449, 1078], [3939, 269], [2853, 1197], [6013, 1233], [1171, 609], [4936, 330], [5922, 3412], [5262, 2460], [4334, 3194], [2888, 1072], [2173, 2530], [4356, 1009], [5918, 3044], [5717, 2958], [314, 891], [1674, 728], [2240, 914], [4507, 1672], [1657, 2899], [2621, 1313], [3705, 1180], [3480, 1787], [5053, 2362], [5262, 957], [91, 1015], [677, 1654], [5168, 1548], [423, 3294], [1711, 2750], [1447, 3105], [4044, 3684], [4000, 511], [2180, 11], [3561, 3175], [1327, 1933], [4657, 2920], [1979, 3782], [1124, 1891], [868, 2299], [5254, 1061], [234, 1070], [2119, 2025], [4006, 2179], [3517, 1595], [1447, 656], [243, 2879], [1033, 2878], [396, 1196], [928, 2473], [2499, 3684], [4014, 3774], [3052, 1627], [4479, 1225], [1967, 3059], [5364, 3407], [4304, 3765], [565, 1612], [1172, 338], [523, 1844], [5538, 1845], [1668, 2991], [1095, 228], [5248, 1906], [3066, 1356], [4592, 488], [3177, 1354], [3835, 2693], [2887, 3458], [1883, 1285], [3311, 1533], [2522, 1366], [1968, 3177], [1792, 770], [2776, 2739], [3946, 3634], [3916, 159], [4571, 2055], [5648, 903], [5667, 1686], [609, 1206], [5538, 1274], [1578, 297], [2270, 943], [3940, 422], [1919, 2502], [3912, 1959], [3332, 2645], [1206, 3626], [4822, 2023], [4509, 2267], [4902, 3079], [787, 2599], [511, 2398], [3704, 2724], [3028, 37], [5171, 493], [727, 821], [3798, 325], [845, 1189], [1604, 1739], [523, 367], [4580, 3602], [2604, 1114], [4747, 33], [1942, 2637], [1654, 437], [5401, 1928], [1339, 61], [1864, 376], [44, 931], [3670, 3555], [845, 109], [4484, 360], [3273, 2068], [1696, 3181], [5062, 148], [337, 3410], [2933, 1819], [224, 2722], [4488, 3676], [2210, 2899], [2752, 1374], [441, 2302], [1444, 2637], [5717, 1843], [5769, 1951], [4447, 953], [2994, 1024], [756, 1699], [4387, 139], [2401, 2918], [4947, 896], [2254, 257], [3402, 1227], [2859, 3008], [4115, 316], [2998, 591], [3584, 1030], [2240, 1883], [4477, 3352], [4833, 2222], [2637, 49], [5076, 1491], [1802, 481], [428, 589], [1150, 24], [1879, 3031], [2879, 2460], [9, 347], [4421, 1318], [5760, 1854], [2823, 1576], [523, 168], [423, 911], [947, 2232], [4009, 1956], [2730, 2983], [3390, 3397], [4260, 1178], [2053, 1455], [2232, 2621], [2700, 727], [4286, 2047], [4477, 436], [4735, 1899], [5432, 585], [2995, 1238], [3684, 24], [3674, 2486], [5584, 1047], [918, 1207], [465, 1046], [4594, 2692], [3290, 2725], [1297, 160], [1057, 3791], [4171, 2327], [4059, 1699], [2052, 2234], [2144, 1254], [5193, 3629], [2637, 2386], [4916, 1211], [35, 1545], [3457, 1595], [5816, 2653], [222, 1959], [2174, 1227], [1745, 2379], [5089, 841], [1421, 3013], [2259, 3184], [387, 2667], [1078, 3407], [2087, 3507], [3954, 1740], [4550, 768], [2037, 924], [4490, 1552], [5396, 2735], [174, 1995], [4687, 1593], [5766, 49], [14, 3497], [1834, 2470], [2563, 1451], [4093, 1848], [5183, 3012], [5599, 699], [5735, 3369], [1896, 3873], [1436, 2267], [2011, 1455], [2456, 2080], [5774, 340], [2452, 2352], [801, 996], [5777, 1178], [774, 340], [3747, 1237], [1363, 1327], [875, 847], [4501, 2863], [4809, 1192], [1169, 2277], [4252, 1168], [5741, 33], [5732, 902], [5038, 1334], [3643, 1445], [1881, 1274], [1448, 1490], [3919, 360], [6012, 3046], [2925, 10], [1542, 1628], [5189, 590], [6010, 1673], [659, 356], [1665, 2690], [860, 1617], [3364, 1793], [1261, 3724], [1713, 2803], [3640, 1178], [5360, 3459], [4788, 1683], [4047, 2655], [3933, 2396], [1370, 2700], [5393, 1355], [2456, 515], [5800, 1214], [1745, 1539], [4285, 3702], [5288, 1301], [5885, 1851], [39, 1179], [342, 3629], [2086, 1900], [4409, 1314], [4168, 1232], [5516, 2267], [3539, 1848], [4818, 1398], [3417, 1943], [4417, 896], [2455, 2279], [1679, 789], [2050, 3441], [4406, 2183], [3017, 2631], [1145, 1721], [3800, 1901], [481, 1273], [3237, 1210], [3216, 1196], [4542, 1457], [1789, 1284], [2954, 740], [3538, 2304], [2940, 1188], [934, 263], [4020, 438], [1901, 1848], [1183, 3431], [1347, 2125], [5119, 1274], [4111, 1550], [1777, 1933], [52, 1746], [5593, 3666], [2886, 1522], [5028, 2233], [2580, 3664], [918, 1373], [2512, 1208], [5240, 1276], [3474, 896], [1883, 2049], [1623, 1627], [3808, 1284], [2800, 1028], [5364, 1643], [5107, 1250], [4642, 1776], [3954, 2548], [1604, 472], [3588, 2426], [1679, 2565], [3583, 3185], [4083, 957], [709, 778], [2454, 1352], [101, 914], [2059, 774], [198, 1529], [3668, 2849], [2565, 2571], [1286, 1791], [4900, 453], [5963, 1024], [3734, 3740], [3609, 2101], [1879, 1157], [3704, 2410], [4735, 1413], [1675, 571], [4888, 476], [5735, 941], [756, 1851], [5971, 3382], [1479, 352], [849, 1120], [1659, 287], [4604, 523], [4482, 1278], [1347, 943], [1511, 1985], [3293, 1180], [1608, 727], [2688, 3078], [3640, 1284], [91, 1851], [4114, 2753], [3915, 3682], [4487, 3035], [4948, 3487], [5823, 1061], [423, 3474], [2859, 2919], [4290, 1370], [203, 1566], [934, 2387], [250, 3187], [2301, 3381], [1392, 3079], [1531, 344], [854, 2049], [4735, 1644], [5014, 2968], [1649, 1218], [2453, 1350], [3939, 5], [3307, 2247], [2113, 2647], [3145, 1204], [5106, 1892], [1670, 1353], [2452, 219], [4333, 3701], [2497, 2853], [75, 290], [4681, 2984], [138, 1335], [2485, 290], [2222, 163], [4343, 2928], [3245, 2220], [3824, 3435], [5503, 2966], [4015, 3663], [1136, 2063], [2588, 1065], [2062, 1546], [5525, 3317], [5766, 1942], [6035, 589], [3870, 3194], [1390, 1685], [3625, 907], [1836, 3410], [85, 892], [4552, 3346], [4778, 109], [2402, 161], [1859, 3259]],\n",
      "    \"stack_elec\": [[217, 133628, 0], [32498, 327757, 0], [27, 86912, 1], [27, 249356, 0], [3232, 187794, 0], [2083, 69553, 2], [89, 270388, 0], [51, 268953, 0], [14, 392612, 0], [19664, 300496, 0], [365, 78256, 0], [155, 179452, 0], [51, 218283, 0], [72, 94411, 0], [22181, 248491, 2], [34118, 132878, 0], [63084, 377398, 0], [7355, 89027, 3], [456, 132881, 0], [30866, 229300, 5], [41636, 286330, 0], [3080, 188879, 0], [5259, 237003, 2], [217, 193878, 3], [3578, 273255, 0], [64, 97701, 2], [6837, 197769, 0], [2280, 361562, 0], [944, 363395, 0], [4680, 113851, 0], [20971, 211577, 1], [53, 331989, 0], [94, 378329, 0], [54, 128050, 0], [1999, 178683, 1], [457, 156956, 1], [55, 247147, 0], [27, 167234, 1], [2731, 88931, 0], [888, 318944, 0], [517, 189882, 0], [551, 155864, 1], [1843, 141989, 2], [2448, 344997, 0], [148, 72486, 1], [193, 343744, 1], [5244, 238237, 0], [9623, 144852, 3], [785, 168210, 0], [902, 104279, 1], [672, 170349, 5], [2219, 131451, 0], [14, 110418, 2], [217, 254547, 0], [309, 102474, 0], [518, 224702, 0], [140, 129582, 0], [917, 71019, 0], [746, 131378, 0], [2337, 207258, 1], [643, 266127, 0], [354, 137656, 0], [6163, 84602, 1], [664, 283823, 2], [10742, 249403, 0], [17, 211755, 1], [466, 150684, 1], [221, 161281, 1], [333, 110774, 1], [53643, 330620, 2], [75, 161480, 1], [506, 293123, 0], [54, 184514, 2], [55, 107389, 1], [2196, 360198, 0], [24438, 122371, 5], [27757, 204267, 0], [2931, 237657, 0], [169, 148098, 1], [917, 91834, 0], [15724, 217761, 2], [71, 395060, 0], [11568, 197533, 1], [38816, 280319, 1], [1496, 177685, 0], [169, 151347, 0], [741, 328094, 2], [35, 140567, 0], [8036, 157346, 0], [58, 249256, 0], [241, 160533, 0], [3451, 77965, 4], [54, 206613, 2], [40858, 309777, 1], [76, 246265, 0], [27, 268461, 0], [54561, 335645, 0], [27, 220432, 0], [606, 68636, 2], [104, 184048, 1], [827, 133959, 0], [13904, 140707, 2], [35, 233216, 2], [566, 183698, 0], [62, 157210, 2], [115, 308500, 0], [36, 141254, 0], [140, 230343, 0], [3016, 83297, 8], [27, 74238, 2], [6238, 84850, 1], [32943, 358743, 0], [23718, 94987, 4], [3719, 181146, 0], [517, 89670, 0], [1893, 157889, 0], [3588, 331138, 0], [54, 267393, 0], [37731, 286301, 0], [2455, 359129, 0], [333, 146107, 1], [52645, 145991, 0], [512, 155885, 0], [27, 146277, 3], [74, 301988, 0], [24179, 141574, 0], [34574, 239926, 0], [63, 119378, 0], [117, 92826, 0], [27, 96998, 0], [38611, 228998, 0], [27, 172413, 0], [827, 285728, 0], [140, 143695, 1], [34118, 165504, 1], [14626, 198534, 0], [4638, 72085, 0], [22736, 159877, 1], [32212, 211349, 0], [4719, 96099, 0], [1425, 70292, 1], [53074, 242741, 1], [63, 105312, 0], [2995, 87584, 0], [4922, 199908, 2], [59, 82676, 1], [54976, 334482, 0], [1135, 278147, 1], [221, 203997, 0], [6916, 171356, 0], [62510, 376587, 0], [18531, 138378, 0], [1217, 86718, 0], [936, 124720, 0], [217, 154972, 0], [636, 80231, 3], [1813, 75875, 0], [17, 223286, 1], [44615, 197771, 0], [2676, 87843, 1], [2401, 128049, 2], [917, 376090, 0], [18440, 216930, 1], [217, 80387, 0], [21696, 138596, 0], [292, 243065, 0], [42300, 268136, 1], [65, 172395, 1], [104, 162834, 0], [128, 75691, 0], [27, 96396, 0], [7164, 233424, 0], [1213, 175897, 1], [33, 241183, 0], [94, 118905, 2], [69, 330265, 0], [2141, 355962, 0], [26237, 318000, 0], [9274, 200556, 0], [1523, 95055, 0], [518, 254373, 1], [2295, 111520, 3], [54, 117694, 0], [471, 129528, 0], [3802, 76907, 3], [169, 367521, 0], [6133, 99612, 0], [4, 312560, 0], [610, 233389, 1], [30664, 202145, 0], [50, 289827, 0], [27, 210658, 0], [567, 292887, 0], [50, 306056, 0], [5370, 154149, 3], [54, 93368, 0], [27, 329499, 0], [150, 110947, 0], [2050, 203643, 0], [3, 264213, 0], [10419, 76897, 0], [27, 146680, 0], [72, 101641, 3], [145, 98281, 0], [469, 132622, 0], [1166, 156280, 1], [5543, 113130, 19], [842, 273994, 0], [2609, 111876, 0], [1441, 110730, 0], [17, 156811, 0], [450, 85902, 1], [14510, 185374, 0], [1513, 78441, 0], [6359, 116792, 0], [72, 131157, 0], [2066, 289667, 0], [2391, 331810, 0], [1989, 77460, 0], [27, 153317, 1], [123, 269210, 0], [216, 82591, 0], [543, 366894, 0], [27, 339880, 0], [1403, 330419, 1], [80, 76914, 0], [863, 121429, 0], [133, 174554, 0], [5728, 190186, 0], [72, 84791, 0], [1620, 168224, 0], [36819, 329525, 1], [359, 312514, 0], [29047, 192924, 0], [453, 261153, 0], [5106, 68029, 2], [107, 328984, 0], [2280, 377319, 0], [8202, 92266, 0], [8792, 396230, 0], [285, 182514, 0], [128, 232610, 0], [10019, 99544, 0], [50, 70865, 1], [965, 96268, 0], [55, 109092, 0], [17, 128480, 2], [14839, 244209, 2], [1345, 296436, 1], [7369, 331749, 0], [591, 334123, 0], [17, 67312, 0], [635, 104517, 1], [12570, 160251, 0], [35436, 112962, 2], [6613, 86113, 4], [583, 331572, 0], [4692, 128480, 0], [165, 220922, 0], [843, 82116, 0], [463, 194739, 0], [5858, 100673, 0], [190, 351966, 0], [55, 108679, 0], [778, 108660, 1], [72, 143824, 0], [35, 145490, 0], [217, 109357, 0], [14215, 179244, 0], [246, 287090, 0], [189, 179375, 1], [13380, 168152, 5], [532, 308446, 0], [25256, 173103, 3], [11842, 205706, 4], [26361, 86147, 0], [23488, 130312, 2], [12972, 238168, 0], [3292, 193121, 1], [145, 80767, 0], [12247, 109098, 0], [58, 83217, 0], [1511, 70072, 0], [64, 223954, 2], [8102, 189750, 0], [66517, 137725, 0], [192, 373846, 0], [4257, 87775, 9], [190, 150983, 0], [11092, 196746, 5], [120, 227591, 0], [1403, 291906, 0], [763, 322077, 0], [17034, 130887, 0], [44372, 330170, 1], [74, 219604, 0], [7417, 78202, 0], [402, 145419, 0], [201, 225018, 0], [23642, 164514, 1], [54, 270656, 0], [38047, 254151, 1], [145, 170806, 0], [2032, 91022, 0], [703, 120100, 1], [451, 180649, 0], [278, 98634, 0], [2503, 167061, 1], [13891, 90332, 0], [3793, 73519, 0], [936, 179189, 0], [89, 195391, 1], [41600, 90299, 0], [97, 161926, 0], [239, 93802, 1], [451, 358806, 0], [39246, 145113, 0], [33, 112130, 0], [145, 124784, 1], [16073, 124679, 1], [57465, 163238, 0], [1406, 67770, 0], [874, 339090, 0], [145, 82700, 3], [35452, 109216, 3], [4879, 68613, 6], [187, 119886, 0], [193, 142326, 0], [551, 118437, 1], [26062, 97718, 1], [27625, 124334, 1], [72, 73225, 5], [21524, 113919, 6], [20069, 263964, 0], [6572, 316095, 0], [55, 217226, 0], [138, 344138, 1], [17291, 203539, 2], [193, 314625, 0], [117, 106893, 0], [4013, 277580, 1], [49374, 307471, 0], [457, 99118, 0], [925, 290679, 0], [15860, 124995, 1], [443, 168594, 1], [12100, 99934, 0], [212, 251380, 3], [3797, 369565, 0], [29191, 193820, 0], [79, 179322, 0], [30154, 248445, 2], [451, 280533, 0], [399, 207345, 0], [72, 277554, 1], [92, 129267, 6], [44143, 210863, 0], [69, 76506, 0], [2156, 108993, 11], [843, 236087, 0], [71, 98579, 0], [190, 295731, 0], [27, 76943, 4], [53, 275994, 0], [14314, 221752, 1], [195, 235228, 0], [74, 298434, 0], [54, 178453, 0], [15, 240740, 1], [703, 253826, 0], [35, 283737, 0], [193, 101603, 0], [16872, 235182, 0], [7038, 84536, 1], [453, 127296, 2], [36, 141737, 2], [807, 84685, 0], [165, 86644, 0], [75, 291948, 0], [10956, 103567, 1], [69, 85787, 0], [3513, 362117, 0], [357, 173217, 0], [27, 143854, 1], [53, 114956, 0], [865, 101180, 1], [4038, 385955, 0], [59683, 280162, 0], [46987, 148015, 2], [28644, 167811, 2], [143, 290454, 0], [36, 225040, 0], [9597, 332693, 0], [357, 108379, 3], [37528, 275782, 2], [27, 257649, 0], [27, 352299, 1], [17, 99523, 1], [239, 221449, 0], [71, 187980, 0], [15116, 234190, 0], [1099, 116943, 0], [76, 130786, 0], [193, 247922, 0], [3680, 267643, 0], [965, 98773, 1], [5403, 281584, 0], [1329, 310827, 1], [357, 239678, 0], [567, 135947, 1], [2168, 178711, 0], [21164, 151882, 0], [999, 207376, 0], [55, 172353, 0], [20675, 127661, 1], [50, 190903, 0], [9409, 248049, 0], [35, 274586, 0], [3766, 219177, 0], [1679, 123289, 1], [14249, 117860, 2], [10849, 305859, 1], [63, 210882, 1], [53, 325586, 0], [652, 98528, 0], [14915, 111172, 0], [27, 232404, 1], [51, 177980, 1], [53, 125613, 2], [357, 205968, 1], [464, 368964, 1], [76, 164892, 1], [217, 156767, 2], [8310, 77791, 0], [169, 92850, 0], [189, 110412, 0], [82, 233113, 0], [155, 214797, 0], [43142, 125078, 0], [859, 266537, 0], [217, 73883, 0], [73, 253677, 0], [85, 349670, 0], [7093, 115313, 3], [63287, 396744, 0], [22072, 255188, 2], [907, 265125, 0], [2980, 126240, 0], [5062, 80695, 3], [27837, 144304, 4], [5727, 82992, 1], [4923, 158360, 0], [551, 339188, 0], [12129, 108586, 0], [2524, 198716, 1], [69, 321596, 1], [239, 85180, 2], [1858, 179146, 0], [72, 103700, 0], [36, 339319, 0], [650, 301970, 0], [71, 178478, 0], [141, 74395, 2], [55, 114396, 1], [71, 199860, 0], [54547, 114310, 0], [3171, 74703, 0], [12215, 99680, 2], [211, 243910, 5], [15047, 174046, 1], [457, 191936, 0], [71, 116905, 0], [143, 155079, 0], [239, 100581, 0], [796, 102846, 1], [10291, 174835, 0], [33, 110538, 0], [1500, 238046, 0], [187, 257684, 0], [1548, 366822, 0], [12, 129702, 0], [32643, 212970, 1], [319, 174807, 2], [1775, 289944, 2], [89, 216016, 0], [1034, 152439, 0], [27, 279574, 0], [7964, 160876, 0], [1135, 126539, 1], [62, 144536, 2], [54, 122380, 0], [1023, 129741, 1], [54, 183135, 0], [14, 146276, 1], [66400, 245576, 0], [12043, 144346, 0], [818, 278321, 1], [28159, 298622, 0], [430, 149469, 0], [85, 76902, 0]],\n",
      "    \"yelp_review\": [[157578, 10607, 0], [659697, 123221, 0], [1369376, 68577, 0], [762293, 123285, 0], [1837, 41578, 0], [18501, 64307, 0], [833632, 60570, 0], [10042, 109472, 0], [1545059, 99226, 0], [1007486, 49080, 0], [7888, 135128, 0], [832703, 45648, 0], [2083, 25168, 0], [41844, 55459, 0], [275318, 748, 0], [278901, 50759, 0], [433433, 143980, 0], [646450, 21460, 0], [1329278, 87788, 0], [36727, 38521, 0], [190721, 92549, 0], [1672291, 136441, 0], [398390, 142279, 0], [410023, 84813, 0], [7273, 84978, 0], [31947, 92453, 0], [1067552, 45144, 0], [219577, 131930, 0], [1397409, 101666, 0], [60625, 117029, 0], [1442650, 96347, 0], [680875, 84982, 0], [48081, 4725, 0], [1365416, 126929, 0], [727310, 56710, 0], [63977, 2882, 0], [266881, 22292, 0], [515617, 53601, 0], [348761, 89907, 0], [121329, 137789, 1], [301807, 122576, 0], [106288, 136724, 0], [274138, 138234, 0], [1973479, 135763, 0], [728436, 76990, 0], [53901, 96481, 0], [659818, 19397, 0], [437896, 113582, 0], [766468, 17713, 0], [939489, 50787, 0], [94391, 1363, 0], [67025, 120678, 0], [1522698, 92115, 0], [1668655, 107118, 0], [138374, 42335, 1], [22538, 26484, 0], [660059, 43240, 0], [159718, 64495, 0], [134785, 56578, 0], [245126, 5077, 0], [1686340, 118843, 0], [1251112, 84935, 0], [280239, 82931, 0], [20269, 16635, 0], [21067, 15161, 0], [478172, 114779, 0], [471561, 18337, 0], [987712, 42561, 0], [1193273, 87366, 0], [778181, 44924, 0], [595912, 2776, 0], [424156, 110007, 0], [430113, 93841, 0], [1893612, 130104, 0], [1024599, 66344, 0], [10262, 110134, 0], [37675, 11605, 0], [836613, 106430, 0], [1658632, 107801, 0], [591664, 112719, 0], [1554287, 78487, 0], [158697, 4412, 0], [1201365, 141050, 0], [1868876, 122890, 0], [42671, 46197, 0], [997907, 100376, 0], [59929, 118446, 0], [48209, 110097, 0], [326965, 9290, 0], [1394111, 82824, 0], [446998, 119460, 0], [109607, 137305, 0], [624365, 40100, 0], [487431, 56756, 0], [1434897, 96782, 0], [1142423, 131433, 0], [232273, 31022, 0], [262908, 102186, 0], [1321567, 103652, 0], [300092, 12562, 0], [500949, 39658, 0], [54918, 1428, 0], [546707, 136033, 0], [74893, 443, 0], [10041, 91265, 0], [842249, 46293, 0], [24040, 7701, 0], [763123, 16485, 0], [75816, 136667, 0], [228800, 82067, 0], [88965, 130660, 0], [1456763, 86640, 0], [263039, 85036, 0], [736288, 34130, 0], [34163, 7598, 0], [796173, 145958, 0], [1582857, 90975, 0], [1152175, 67072, 0], [51028, 79708, 0], [65187, 99436, 0], [164091, 2028, 0], [22574, 50809, 0], [353762, 89855, 0], [335293, 39133, 0], [1139840, 52514, 0], [706211, 32917, 0], [1017326, 79707, 0], [178877, 146839, 0], [685964, 102978, 0], [1690, 18342, 0], [587073, 131515, 0], [1056802, 54486, 0], [23456, 142789, 0], [95137, 21934, 0], [659018, 128542, 0], [1936094, 131449, 0], [889251, 30312, 0], [136, 67642, 0], [190066, 9162, 0], [247553, 39208, 0], [297304, 69053, 0], [301704, 106679, 0], [64148, 8868, 0], [1410304, 93836, 0], [8648, 62546, 0], [69296, 116209, 0], [238436, 150221, 0], [498280, 95205, 0], [267747, 22462, 0], [465357, 61052, 0], [424293, 107101, 0], [325952, 122246, 0], [1067106, 53651, 0], [462888, 50669, 0], [742241, 50729, 0], [47731, 64960, 0], [961786, 36040, 0], [446619, 72530, 0], [694627, 16941, 0], [448715, 121824, 0], [396530, 3513, 0], [508893, 91248, 0], [23338, 54922, 0], [568080, 63420, 0], [91427, 77764, 0], [1548961, 85378, 0], [295603, 74228, 0], [1790494, 137475, 0], [1815517, 139828, 0], [1260266, 84061, 0], [1319894, 64082, 0], [7460, 77127, 0], [981069, 126152, 0], [15926, 49228, 0], [416337, 52945, 0], [492300, 136132, 0], [662798, 25662, 0], [368988, 75998, 0], [400041, 57643, 0], [795780, 93267, 0], [38904, 100597, 0], [846186, 39340, 0], [877916, 148347, 0], [802924, 41585, 0], [55332, 135655, 0], [1248465, 123090, 0], [287184, 47309, 0], [950500, 36746, 0], [1954358, 142114, 0], [477539, 17253, 0], [87649, 13932, 0], [412918, 18557, 0], [1200952, 92579, 0], [292508, 94723, 0], [1588054, 82513, 0], [236621, 101307, 0], [60861, 133848, 1], [187592, 8159, 0], [1287948, 71242, 0], [222836, 60753, 0], [74052, 136610, 0], [707815, 41701, 0], [90185, 19303, 0], [1095844, 70088, 0], [1021902, 57039, 0], [155010, 125482, 0], [193903, 47458, 0], [73649, 122979, 0], [79634, 133848, 0], [382628, 71952, 0], [653689, 116303, 0], [233554, 77923, 0], [297416, 120856, 0], [59323, 122593, 0], [368051, 99667, 0], [711496, 104622, 0], [168900, 10218, 0], [927, 22956, 0], [313484, 68650, 0], [75385, 51785, 0], [230283, 123576, 0], [1108610, 55952, 0], [1384197, 82093, 0], [394656, 11572, 0], [19505, 6796, 0], [1425590, 95720, 0], [979993, 96627, 0], [110781, 34916, 0], [17909, 92554, 0], [1176866, 54725, 0], [15817, 60753, 0], [703400, 77028, 0], [1282220, 108990, 0], [1107811, 68528, 0], [459377, 82233, 0], [624856, 31332, 0], [1390085, 103882, 1], [60048, 47827, 0], [386622, 1971, 0], [645123, 42102, 0], [784752, 124496, 0], [534944, 20523, 0], [22880, 85730, 0], [1389728, 66690, 0], [87870, 108202, 0], [19599, 100944, 0], [78744, 39310, 0], [524697, 9962, 0], [111883, 82810, 0], [744947, 38728, 0], [494360, 64235, 0], [128732, 25365, 0], [422763, 149727, 0], [200781, 5036, 0], [119422, 82058, 0], [254703, 44948, 0], [382799, 104590, 0], [45185, 96357, 0], [961471, 51893, 0], [1405338, 100391, 0], [1651094, 112552, 0], [1593047, 107622, 0], [892963, 136039, 0], [714380, 27213, 0], [165719, 125889, 0], [90211, 71444, 0], [297228, 145664, 0], [1751428, 109906, 0], [25681, 18706, 0], [246849, 94972, 0], [160386, 126325, 0], [149630, 57038, 0], [117765, 50019, 0], [85971, 49097, 0], [137045, 48132, 0], [507223, 7801, 0], [1932328, 123366, 0], [1653512, 114932, 0], [1856985, 143569, 1], [295327, 54800, 0], [76582, 99257, 0], [1164643, 54125, 0], [958472, 58244, 0], [495408, 147650, 0], [774937, 142510, 0], [396644, 43339, 0], [311075, 128013, 0], [946381, 42982, 0], [368240, 124285, 0], [39417, 129615, 0], [180048, 4515, 0], [744698, 121608, 0], [481424, 16235, 0], [1542407, 100886, 0], [408442, 95772, 0], [196468, 61425, 0], [299965, 68450, 0], [705860, 50258, 0], [181710, 7140, 0], [1388628, 85747, 0], [59422, 96628, 0], [4179, 14580, 0], [57775, 117936, 0], [712167, 29652, 0], [1661028, 146034, 0], [255592, 56012, 0], [66549, 49176, 0], [308100, 98191, 0], [30309, 136761, 0], [1965583, 148829, 0], [851407, 31843, 0], [1756244, 126069, 0], [848893, 111428, 0], [156404, 44737, 0], [331748, 123696, 0], [216132, 88020, 0], [119277, 113141, 0], [130690, 44, 0], [248427, 106327, 0], [960502, 140478, 0], [635640, 93314, 0], [98540, 32917, 0], [340501, 59486, 0], [1861025, 132797, 0], [3445, 24308, 0], [6552, 145003, 0], [291135, 4841, 0], [73411, 35275, 0], [332961, 137810, 0], [1282581, 71763, 0], [229246, 97776, 0], [1969, 109663, 0], [24997, 97331, 0], [488280, 115121, 0], [1406798, 89787, 0], [130077, 74573, 0], [4207, 58990, 0], [692192, 31467, 0], [220756, 96586, 0], [44782, 45367, 0], [460217, 68203, 0], [1961902, 135405, 0], [347881, 110859, 0], [214659, 6086, 0], [112008, 2853, 0], [846812, 93239, 0], [131474, 51913, 0], [1008593, 131593, 0], [1786554, 130598, 0], [459848, 47757, 0], [300143, 6222, 0], [53437, 108353, 0], [308006, 74503, 0], [705204, 34590, 0], [1534218, 101712, 0], [183083, 131670, 0], [93003, 20585, 0], [1041943, 68359, 0], [172669, 83527, 0], [276531, 148347, 0], [1179431, 65513, 0], [124802, 86903, 0], [790511, 143333, 0], [688245, 66642, 0], [131589, 48627, 0], [472336, 129110, 0], [538329, 25942, 0], [38919, 31807, 0], [192588, 12785, 0], [427251, 19193, 0], [13540, 60981, 0], [50874, 68845, 0], [1227132, 140720, 0], [1747762, 118262, 0], [1199340, 63952, 0], [719358, 123436, 0], [61183, 54067, 0], [203061, 43717, 0], [1194351, 60315, 0], [240253, 1112, 0], [268002, 3986, 0], [1149410, 53439, 0], [499844, 17028, 0], [1353977, 61228, 0], [74538, 76019, 0], [206858, 46923, 0], [1736853, 115154, 0], [292450, 2819, 0], [47205, 20826, 0], [6178, 147233, 0], [329354, 15374, 0], [54445, 45498, 0], [63502, 48146, 0], [400957, 79093, 0], [24975, 22184, 0], [90897, 117324, 0], [802356, 56522, 0], [764057, 147508, 0], [211310, 70112, 0], [290029, 100227, 0], [12828, 41707, 0], [1567404, 101914, 0], [877465, 142293, 0], [72031, 1435, 0], [520014, 72248, 0], [528848, 100499, 0], [923009, 117868, 0], [545390, 136064, 0], [1277433, 71699, 0], [1720796, 109338, 0], [61409, 11485, 0], [2906, 108857, 0], [338249, 61385, 0], [81371, 49982, 0], [315773, 8464, 0], [136563, 145610, 0], [212235, 111725, 0], [1567688, 99887, 0], [926642, 43384, 0], [1134329, 49157, 0], [7577, 34160, 0], [60466, 37692, 0], [120074, 1880, 0], [245013, 148252, 0], [49416, 14295, 0], [34440, 130511, 0], [102146, 136, 0], [222936, 698, 0], [283181, 41740, 0], [412664, 57622, 0], [79800, 97759, 0], [575622, 75355, 0], [922587, 36753, 0], [95470, 130408, 0], [1062747, 67635, 0], [30940, 85563, 0], [1031285, 71946, 0], [1622236, 110464, 0], [738343, 18060, 0], [438065, 149175, 0], [23107, 144774, 0], [473136, 29356, 0], [234581, 86029, 0], [291917, 22390, 0], [248221, 2641, 0], [984668, 103245, 0], [21650, 84734, 0], [1703010, 119421, 0], [180135, 92581, 0], [760385, 147905, 0], [7213, 35949, 0], [1107410, 53751, 0], [27356, 9718, 0], [1079461, 51081, 0], [78357, 98379, 0], [272078, 117622, 0], [18167, 19187, 0], [520327, 27058, 0], [599603, 93307, 0], [130163, 9202, 0], [602631, 74794, 0], [466909, 67913, 0], [51303, 41292, 0], [447004, 60265, 0], [370969, 57699, 0], [636077, 41091, 0], [34989, 25792, 0], [111592, 5386, 0], [50134, 115821, 0], [39103, 91651, 0], [126599, 109194, 0], [24221, 123141, 0], [1850176, 133676, 0], [888309, 30965, 0], [1355328, 67423, 0], [797699, 47299, 0], [930695, 35015, 0], [407578, 113731, 0], [107424, 8267, 0], [21758, 22836, 0], [1676493, 119093, 0], [959437, 87334, 0], [4516, 123000, 0], [60797, 36721, 0], [1531812, 103440, 0], [1510400, 97887, 0], [32759, 94342, 0], [1094299, 70638, 0], [1065082, 57965, 0], [946984, 38522, 0], [61763, 41776, 1], [9956, 44231, 0], [1309, 28178, 0], [215415, 57442, 0], [1433142, 90990, 0], [703189, 135371, 0], [2785, 39188, 0], [19315, 56133, 0], [155534, 149149, 0], [789523, 18452, 0]],\n",
      "    \"fingerprint\": [161, 2495, 1975, 409, 2674, 536, 1450, 1641, 511, 1202, 1207, 2640, 2698, 2231, 1653, 385, 276, 2394, 2677, 2117, 1918, 1003, 1986, 1731, 2204, 454, 2352, 1081, 130, 2723, 461, 2758, 1771, 2269, 2277, 1589, 201, 1275, 921, 1644, 1148, 2401, 1921, 1578, 2785, 1777, 283, 2339, 230, 2225, 963, 1739, 597, 1629, 699, 984, 918, 1890, 216, 1427, 2462, 1741, 400, 233, 1268, 592, 839, 1209, 2244, 1930, 939, 751, 2571, 493, 773, 314, 1040, 420, 1838, 1088, 1270, 1470, 847, 2279, 62, 39, 1581, 1678, 2562, 1127, 53, 2649, 683, 484, 764, 710, 2596, 2273, 628, 450, 83, 907, 1277, 2399, 1121, 969, 1633, 1429, 2459, 1499, 1436, 658, 1477, 326, 367, 2261, 2301, 2104, 1461, 1064, 714, 2482, 1645, 2544, 38, 266, 2250, 2351, 2450, 2323, 564, 1044, 2355, 2423, 1425, 2329, 406, 2620, 2154, 859, 651, 2468, 238, 871, 507, 341, 1757, 482, 2625, 197, 844, 1078, 1969, 483, 224, 1211, 2240, 1208, 1338, 2709, 2574, 730, 1248, 668, 1193, 34, 306, 2632, 1871, 811, 243, 558, 2120, 688, 571, 1527, 2328, 1647, 1981, 1164, 2247, 608, 442, 1928, 1521, 857, 2621, 475, 1823, 1296, 1555, 2350, 1813, 2324, 468, 207, 2274, 1810, 758, 1045, 1538, 1153, 581, 58, 1443, 2337, 415, 1755, 622, 762, 531, 539, 192, 113, 470, 2687, 818, 211, 1880, 208, 518, 1021, 2755, 681, 2333, 1360, 775, 1337, 1328, 2221, 111, 440, 1998, 1484, 2542, 1886, 1256, 2200, 1949, 1671, 890, 353, 210, 2416, 2717, 2199, 2348, 1664, 2115, 885, 1549, 2201, 1594, 1603, 33, 835, 711, 2451, 959, 843, 2215, 1828, 713, 1087, 1011, 2417, 706, 1266, 1114, 2296, 50, 528, 2794, 652, 2669, 2431, 2370, 2275, 589, 2747, 1575, 893, 1403, 1525, 849, 2513, 756, 2434, 1336, 318, 1401, 2686, 763, 138, 2477, 1276, 2469, 52, 1814, 679, 2760, 2384, 803, 2303, 561, 889, 1912, 1699, 2452, 1627, 600, 656, 861, 2306, 2217, 478, 765, 2472, 2346, 1246, 1748, 1605, 403, 525, 2436, 635, 689, 1692, 1684, 473, 202, 402, 1783, 1811, 649, 725, 2242, 90, 2524, 1995, 2206, 1553, 2232, 1809, 1528, 1663, 1668, 258, 919, 2432, 812, 2565, 247, 966, 304, 877, 2511, 1240, 914, 542, 537, 2271, 1864, 251, 830, 1261, 288, 1942, 1774, 1399, 1842, 514, 467, 1502, 1177, 569, 2258, 1269, 124, 200, 1094, 671, 787, 708, 1377, 1320, 154, 846, 800, 2209, 1467, 1038, 1722, 1799, 2453, 1024, 2593, 1462, 2724, 588, 2320, 2688, 781, 2684, 2602, 1051, 654, 1212, 2719, 1327, 157, 1548, 1060, 2499, 513, 1925, 2708, 1727, 55, 1973, 1389, 1716, 2465, 92, 2793, 1123, 1016, 716, 300, 103, 2681, 2769, 562, 1744, 486, 872, 2467, 715, 18, 519, 356, 2784, 1369, 2505, 2022, 74, 381, 307, 2387, 643, 1576, 437, 263, 117, 1346, 1923, 2284, 1753, 1366, 2672, 232, 1373, 1905, 734, 1184, 2292, 1853, 1359, 2508, 1394, 2441, 485, 2220, 2629, 850, 583, 2294, 1655, 2266, 1849, 657, 1284, 1243, 2066, 339, 2241, 2094, 595, 458, 1510, 2646, 1420, 273, 933, 1440, 2239, 1151, 1704, 1796, 299],\n",
      "    \"bace\": [1190, 437, 366, 241, 426, 1256, 617, 1435, 799, 1110, 844, 266, 1476, 817, 1184, 141, 1479, 197, 1266, 718, 993, 926, 816, 28, 504, 746, 1118, 285, 731, 951, 1107, 507, 870, 294, 1286, 1274, 174, 572, 375, 1088, 752, 1116, 675, 1079, 1226, 42, 162, 1301, 832, 1202, 1362, 424, 137, 607, 140, 821, 85, 455, 179, 1052, 1478, 4, 1310, 793, 1038, 1149, 1231, 818, 474, 410, 976, 334, 564, 1371, 1033, 1245, 40, 35, 1319, 451, 1041, 1502, 741, 119, 1074, 655, 860, 972, 314, 258, 681, 804, 724, 393, 687, 579, 1137, 1061, 394, 541, 166, 212, 1344, 537, 755, 122, 1085, 1320, 875, 13, 1002, 450, 302, 1104, 445, 1151, 1335, 242, 1498, 969, 923, 589, 176, 1282, 1420, 982, 1221, 117, 1138, 1407, 748, 146, 402, 864, 435, 1047, 148, 452, 78, 446, 1369, 648, 983, 1117, 1172, 259, 1504, 876, 1349, 1424, 1241, 1040, 1254, 658, 1415, 396, 1029, 1259, 353, 528, 399, 62, 465, 1180, 820, 431, 637, 1045, 1147, 1427, 1340, 1496, 295, 412, 694, 1284, 318, 1072, 440, 705, 1280, 191, 389, 515, 156, 834, 1196, 308, 924, 594, 662, 129, 787, 436, 900, 167, 1026, 1473, 235, 689, 289, 1039, 1100, 856, 462, 336, 178, 1264, 955, 1159, 1347, 109, 273, 511, 652, 1076, 24, 1258, 592, 532, 1106, 1399, 788, 1277, 1186, 1094, 37, 575, 1348, 1460, 247, 595, 100, 1345, 1318, 1114, 81, 1377, 656, 556, 1021, 580, 1232, 134, 958, 328, 338, 268, 14, 934, 1176, 759, 1016, 593, 1506, 680, 303, 578, 1057, 1488, 1199, 1001, 1448, 936, 1404, 838, 1408, 879, 1393, 905, 444, 342, 1272, 133, 1242, 647, 418, 93, 622, 1153, 691, 1353, 155, 315, 1470, 1450, 1505, 706, 127, 819, 808, 313, 71, 300, 954, 1366, 222, 221, 1456, 224, 549, 373, 297, 794, 1260, 333, 770, 337, 967, 494, 1459, 946, 1096, 1113, 1011, 761, 401, 1160, 612, 829, 1015, 542, 939, 1243, 649, 5, 964, 1214, 892, 563, 953, 1144, 1068, 659, 417, 1185, 763, 1469, 348, 1063, 106, 764, 1178, 1510, 1087, 646, 1327, 836, 1112, 887, 722, 1288, 392, 1129, 471, 613, 1154, 1458, 1268, 1051, 48, 522, 490, 552, 66, 9, 921, 53, 245, 115, 1200, 986, 1095, 949, 915, 287, 600, 478, 1115, 1378, 1069, 569, 254, 419, 992, 428, 1009, 753, 60, 683, 139, 113, 912, 1053, 848, 1102, 286, 701, 449, 714, 367, 1509, 1238, 910, 32, 110, 1207, 644, 630, 1126, 686, 343, 70, 977, 559, 1222, 1024, 363, 386, 102, 306, 1438, 980, 475, 1431, 779, 262, 807, 888, 1237, 214, 713, 1228, 938, 729, 1249, 990, 482, 1511, 585, 881, 433, 802, 244, 360, 684, 1472, 616, 249, 778, 1164, 135, 913, 1181, 86, 422, 1500, 1354, 872, 413, 1381, 405, 27, 326, 293, 726, 255, 1410, 1439, 1028, 250, 1314, 185, 1350, 158, 638, 1442, 530, 587, 825, 20, 629, 664, 1441, 1086, 398, 39, 1255, 496, 324, 461, 12, 1323, 485, 321, 36, 1503, 1406, 1269, 634],\n",
      "    \"esol\": [960, 564, 91, 478, 1039, 491, 25, 199, 1100, 52, 524, 647, 1030, 1020, 830, 119, 170, 707, 926, 285, 392, 151, 901, 239, 1120, 846, 1049, 472, 762, 639, 834, 545, 828, 771, 566, 120, 1065, 421, 528, 1022, 967, 743, 684, 721, 110, 612, 989, 83, 1106, 216, 1012, 236, 103, 313, 974, 154, 597, 543, 496, 455, 561, 215, 852, 139, 451, 16, 255, 695, 382, 925, 542, 749, 344, 770, 341, 757, 232, 479, 357, 628, 405, 136, 637, 326, 348, 117, 607, 648, 987, 511, 675, 868, 1060, 64, 1089, 72, 180, 931, 895, 53, 3, 495, 839, 979, 1110, 332, 481, 238, 978, 367, 1107, 507, 660, 345, 539, 24, 1075, 89, 1021, 526, 127, 116, 226, 726, 513, 886, 1061, 1031, 939, 223, 550, 710, 509, 1114, 764, 59, 782, 706, 785, 1111, 998, 7, 824, 366, 1104, 1001, 689, 957, 17, 735, 1123, 18, 258, 958, 664, 827, 454, 1059, 174, 718, 775, 508, 859, 218, 353, 10, 118, 1098, 599, 1048, 1041, 1081, 158, 311, 384, 178, 671, 460, 907, 378, 624, 60, 988, 301, 719, 1090, 930, 109, 611, 168, 277, 934, 444, 748, 754, 13, 468, 5, 662, 741, 383, 310, 401, 398, 800, 897, 586, 982, 579, 866, 356, 261, 308, 650, 20, 15, 205, 443, 82, 747, 658, 1097, 257, 287, 500, 682, 936, 778, 898, 380, 970, 57, 504, 847, 994, 766, 294, 1056, 303, 207, 1024, 1092, 894, 1116, 193, 700, 171, 299, 437, 631, 630, 191, 1004, 439, 602, 708, 113, 1071, 93, 724, 410, 646, 590, 753, 250, 316, 738, 965, 165, 870, 434, 202, 887, 409, 919, 69, 634, 570, 879, 860, 593, 76, 330, 222, 715, 256, 783, 179, 467, 645, 296, 1050, 197, 291, 622, 327, 1108, 933, 605, 840, 463, 347, 900, 947, 945, 413, 616, 1079, 990, 869, 427, 966, 1026, 896, 968, 175, 483, 272, 107, 262, 177, 297, 882, 810, 863, 952, 364, 476, 425, 929, 47, 1014, 153, 85, 668, 763, 744, 227, 606, 196, 224, 186, 1025, 471, 1062, 742, 45, 408, 841, 289, 254, 851, 519, 878, 1102, 916, 873, 111, 423, 853, 832, 502, 1064, 304, 369, 315, 881, 806, 363, 329, 516, 944, 867, 1109, 42, 96, 556, 489, 683, 375, 125, 582, 1011, 975, 84, 387, 855, 1042, 704, 621, 350, 584, 788, 756, 35, 798, 714, 1113, 280, 484, 729, 962, 142, 568, 225, 86, 131, 874, 521, 242, 493, 872, 1082, 576, 428, 1017, 767, 335, 385, 842, 23, 918, 871, 820, 40, 654, 133, 1027, 124, 273, 61, 884, 600, 400, 1038, 1070, 33, 1077, 379, 144, 854, 469, 283, 270, 97, 904, 893, 1003, 497, 1126, 574, 209, 1051, 514, 269, 784, 880, 148, 314, 39, 420, 102, 619, 126, 935, 992, 1018, 275, 404, 485, 903, 104, 1007, 943, 818, 906, 510, 198, 618, 1093, 849, 780, 1101, 844, 551, 794, 948, 657, 547, 532, 728, 370, 991, 1016, 399, 1083, 769, 361, 183, 163],\n",
      "    \"explagraphs\": [2348, 39, 1496, 3, 1093, 2722, 919, 1818, 2365, 1081, 118, 2453, 351, 1952, 338, 660, 1448, 1516, 1682, 2562, 924, 901, 1192, 2437, 682, 2236, 1433, 1615, 2435, 2311, 1158, 321, 2059, 1984, 1641, 418, 76, 2741, 2440, 1312, 1366, 652, 934, 2139, 1749, 81, 2690, 845, 2368, 1203, 479, 549, 520, 1731, 1647, 283, 980, 1284, 892, 2263, 100, 686, 616, 1598, 1592, 628, 2720, 2402, 2196, 1787, 2472, 1288, 2258, 93, 1545, 1581, 1261, 1993, 1811, 2386, 306, 2498, 2248, 1835, 542, 617, 36, 775, 2397, 649, 2592, 2098, 1846, 2253, 1550, 80, 1100, 380, 943, 1497, 981, 230, 138, 477, 1130, 433, 1406, 977, 1752, 2520, 1578, 1510, 204, 1202, 2518, 615, 488, 1167, 1140, 461, 1501, 946, 2740, 1477, 2385, 1562, 2620, 2507, 103, 824, 1542, 2090, 1210, 1860, 1539, 2028, 35, 37, 727, 1732, 2174, 2128, 309, 1043, 2238, 917, 550, 1741, 2072, 873, 277, 1616, 838, 907, 1994, 1541, 1038, 70, 443, 2249, 639, 397, 2494, 1767, 1582, 1776, 1180, 470, 2205, 2052, 857, 2678, 2556, 2606, 1991, 1938, 2391, 1187, 1740, 187, 62, 2388, 580, 2244, 2256, 1863, 419, 2467, 246, 295, 2212, 1419, 716, 2111, 2096, 1239, 1410, 1947, 297, 2029, 2117, 1114, 1219, 450, 2286, 1057, 1163, 1816, 793, 475, 427, 1156, 403, 543, 30, 112, 1103, 2663, 955, 1971, 1710, 1885, 2184, 547, 1228, 2736, 231, 1031, 2121, 2629, 1027, 1866, 2012, 2292, 1362, 541, 2326, 2171, 530, 559, 2379, 2715, 611, 1427, 2611, 349, 1888, 1436, 945, 2445, 2047, 655, 767, 1405, 469, 634, 152, 1059, 165, 1618, 1207, 1907, 817, 538, 84, 697, 1566, 1171, 1137, 1648, 854, 2327, 1377, 1463, 888, 2374, 302, 577, 1854, 1346, 1101, 1652, 2705, 2132, 2421, 317, 2387, 1474, 2239, 1222, 1338, 927, 867, 1837, 435, 583, 2371, 2646, 1439, 1104, 1216, 11, 1395, 1505, 521, 926, 2315, 2276, 1468, 1524, 1052, 2704, 629, 14, 1040, 318, 2463, 264, 1080, 2560, 400, 2050, 1401, 214, 2355, 1394, 1387, 504, 69, 1665, 1262, 1940, 1745, 2398, 2063, 1236, 2580, 2300, 2748, 1324, 2603, 1911, 2529, 2674, 2324, 48, 1829, 1403, 1871, 2340, 388, 422, 386, 2624, 2277, 2156, 2688, 353, 1456, 788, 1495, 1968, 1821, 1243, 2269, 2138, 2140, 2743, 690, 2280, 1838, 1975, 2564, 363, 1214, 2272, 481, 77, 2103, 326, 1916, 215, 1365, 2396, 554, 1056, 197, 2751, 7, 2107, 143, 1720, 2057, 1817, 606, 455, 1511, 2088, 1962, 1459, 441, 303, 925, 467, 1340, 457, 2298, 2125, 1956, 1773, 2084, 327, 1537, 1327, 1023, 1201, 1206, 537, 2637, 2382, 1381, 1311, 2649, 243, 525, 2602, 1998, 783, 1891, 1595, 797, 560, 1064, 46, 1423, 2283, 1475, 122, 375, 848, 534, 329, 21, 1904, 280, 2670, 1024, 1478, 1565, 745, 508, 393, 1285, 1462, 1654, 2601, 398, 1301, 1525, 1268, 540, 169, 2702, 2763, 185, 2697, 2354, 1640, 1175, 2450, 293, 2473, 1480, 2399, 2142, 32, 2023, 1983, 871, 2434, 830, 1893, 2661, 657, 1658, 2136, 379, 1263, 920, 2006, 1229, 506, 1291, 1557, 2064, 1385, 2419, 1986, 2400, 2665],\n",
      "    \"chebi20\": [5312779, 2723922, 27655, 451714, 126559085, 102515148, 71728426, 134160308, 22806751, 25257394, 6384258, 7955, 23635044, 118701012, 122391270, 70678949, 5459982, 56600875, 11990828, 11137923, 12570, 13712, 52921902, 11542476, 5282031, 5460179, 72551462, 53354908, 91828261, 86289582, 60750, 9574768, 5330, 131708349, 50901244, 150929, 49791957, 6993707, 124202351, 21575386, 66666686, 17748672, 61503, 54725755, 46878548, 91849641, 86289273, 199656, 25245157, 70678937, 22880, 135563661, 134160355, 10368709, 3017661, 86863, 129626661, 45, 520298, 10329124, 49852418, 73484, 8138, 8374, 54690914, 13969544, 4661, 24755547, 53262317, 448972, 91861579, 9903963, 6320, 114948, 11101, 86289529, 5280975, 9903778, 440994, 636708, 121225531, 134160275, 7057970, 9997028, 5497182, 45266898, 56611864, 135911927, 11954195, 70697751, 23583512, 86289077, 126456435, 26305, 6602431, 11022444, 8081, 3782987, 61163, 151275, 52940141, 11619632, 196, 14016224, 23668320, 6091659, 135926535, 91828303, 44229082, 257434, 9253, 721472, 121596206, 54684893, 71581235, 56598063, 24814, 6857680, 12332, 44584441, 51351778, 123132014, 3007855, 641297, 40846578, 5281219, 3080928, 5190808, 70678601, 121232662, 167350, 45479433, 11527333, 70789046, 1294694, 8478, 53262339, 61996, 23615305, 15431726, 51432351, 24433, 4645224, 126559185, 25245832, 102571775, 19241, 24083, 56955922, 439998, 90658408, 15982923, 443498, 44263318, 71627296, 153005, 91820327, 5315454, 8130, 6419735, 24778766, 91493, 91849849, 10931575, 460604, 441439, 94196, 56927942, 36833, 25203713, 67701, 65551, 16759310, 2756, 11149005, 6325241, 44229184, 86289952, 13964934, 56927868, 4234297, 441921, 132282117, 44123422, 70680377, 86289336, 70697801, 29986451, 129011047, 24778900, 10108584, 121225538, 5312785, 51351710, 86289875, 71627159, 1254, 57485956, 743, 21141346, 53262877, 11387861, 5284570, 139036281, 23712, 56927847, 92136110, 5283577, 9908448, 21158465, 70679048, 46878545, 129039, 24892746, 52924864, 10261389, 50899854, 90657146, 6428178, 14537, 51351802, 16680045, 2998, 129626739, 25203302, 10507084, 10250145, 75994, 17759692, 86289353, 86289183, 44558871, 64968, 23576, 23615207, 101600097, 70679038, 366, 20056717, 3947, 15931626, 16211258, 2564, 70679011, 11052745, 543855, 14210, 441923, 25202257, 1548897, 39214, 454, 250817, 6475682, 91865193, 70698335, 86289131, 76969562, 49852363, 736190, 6336, 24771799, 53477649, 25201964, 57397239, 40468156, 6971284, 19592, 22485761, 40838, 24755587, 1483, 21550576, 70678568, 439216, 135514797, 5459891, 65275, 442868, 75898, 25244632, 7770, 259693, 4488496, 160932, 46224558, 15649435, 53354923, 135398683, 5280934, 86583423, 6454686, 16048635, 5281654, 157922, 11225555, 10391691, 72551503, 10219, 91621, 56677382, 71464574, 135563767, 54758613, 91666367, 51041528, 9500, 71296177, 5460926, 14029652, 91828252, 5281421, 124258, 20264585, 5462254, 5283039, 54677972, 71297618, 6852034, 52921665, 9547058, 24779032, 6437357, 70679213, 126456543, 52921575, 16743552, 119199, 14880747, 178795, 5460887, 52943439, 132282486, 1052, 71448977, 72815, 20848971, 46173521, 32176, 137553774, 129011059, 18454345, 2482, 6857415, 25116642, 91825600, 192372, 90659892, 71581010, 45266641, 114523, 125128, 135911924, 122391226, 5717801, 136242939, 129900393, 25201472, 119405, 24906330, 129011031, 5281700, 5365872, 11966097, 61336, 86290211, 44237379, 72193698, 11537710, 12035, 51041755, 31378, 101634632, 52921629, 132472303, 134930, 5281809, 5280631, 53480381, 6912, 23615314, 70679217, 42578501, 90659863, 72193682, 53297356, 9548903, 44182304, 9548778, 5281995, 5460678, 91825597, 53357352, 24755553, 38356049, 5282855, 56927861, 16212367, 16681479, 12004512, 5460800, 86290215, 45259220, 434, 5281600, 119058147, 86289695, 67955, 15942880, 441688, 52921576, 150911, 56927903, 49792053, 643995, 6923347, 40828, 3218, 10001150, 91666383, 44237572, 6262, 51042204, 36811, 5461008, 70788980, 9548602, 44224047, 5459845, 135444498, 124108, 132274112, 164853, 4173, 440038, 439750, 135548351, 86289617, 1978, 4737, 158815, 21524386, 273362, 86289896, 46224553, 91846826, 70788982, 121596224, 14237660, 644110, 135498233, 25271693, 137333726, 9883786, 5312529, 114811, 83967, 56927864, 86289217, 71464613, 2526, 9543317, 23657868, 46832173, 104880, 25201153, 45266906, 4255608, 9400, 4192, 501640, 51397014, 124202385, 90659809, 83823, 25058182, 132282530, 71296143, 446098, 131142768, 248269, 71581048, 125181, 24796784, 91852601, 56927829, 99281, 11876959, 86289644, 91666437, 40429039, 86289218, 123932, 164607, 3330960, 121225511, 21121406, 91972236, 70789062, 13314]\n",
      "}\n"
     ]
    },
    {
     "ename": "FileNotFoundError",
     "evalue": "[Errno 2] No such file or directory: 'projects/LangGFM/experiments/training_v1/indices_semantic.json'",
     "output_type": "error",
     "traceback": [
      "\u001b[0;31m---------------------------------------------------------------------------\u001b[0m",
      "\u001b[0;31mFileNotFoundError\u001b[0m                         Traceback (most recent call last)",
      "Cell \u001b[0;32mIn[53], line 30\u001b[0m\n\u001b[1;32m     27\u001b[0m \u001b[38;5;28mprint\u001b[39m(formatted_json)\n\u001b[1;32m     29\u001b[0m \u001b[38;5;66;03m# 存储到本地文件\u001b[39;00m\n\u001b[0;32m---> 30\u001b[0m \u001b[38;5;28;01mwith\u001b[39;00m \u001b[38;5;28;43mopen\u001b[39;49m\u001b[43m(\u001b[49m\u001b[38;5;124;43m\"\u001b[39;49m\u001b[38;5;124;43mprojects/LangGFM/experiments/training_v1/indices_semantic.json\u001b[39;49m\u001b[38;5;124;43m\"\u001b[39;49m\u001b[43m,\u001b[49m\u001b[43m \u001b[49m\u001b[38;5;124;43m\"\u001b[39;49m\u001b[38;5;124;43mw\u001b[39;49m\u001b[38;5;124;43m\"\u001b[39;49m\u001b[43m,\u001b[49m\u001b[43m \u001b[49m\u001b[43mencoding\u001b[49m\u001b[38;5;241;43m=\u001b[39;49m\u001b[38;5;124;43m\"\u001b[39;49m\u001b[38;5;124;43mutf-8\u001b[39;49m\u001b[38;5;124;43m\"\u001b[39;49m\u001b[43m)\u001b[49m \u001b[38;5;28;01mas\u001b[39;00m file:\n\u001b[1;32m     31\u001b[0m     file\u001b[38;5;241m.\u001b[39mwrite(formatted_json)\n\u001b[1;32m     35\u001b[0m \u001b[38;5;66;03m# with open(\"/home/tlin4/projects/LangGFM/experiments/training_v1/indices_semantic.json\", \"w\") as f:\u001b[39;00m\n\u001b[1;32m     36\u001b[0m \u001b[38;5;66;03m#     json_str = json.dumps(indices, indent=4, separators=(',', ': '))\u001b[39;00m\n\u001b[1;32m     37\u001b[0m \u001b[38;5;66;03m#     json_str = re.sub(r'\\[\\n\\s+(\\[.*?\\])\\n\\s+\\]', r'[\\1]', json_str)\u001b[39;00m\n\u001b[1;32m     38\u001b[0m \u001b[38;5;66;03m#     f.write(json_str)\u001b[39;00m\n",
      "File \u001b[0;32m~/miniconda3/envs/GFM/lib/python3.11/site-packages/IPython/core/interactiveshell.py:324\u001b[0m, in \u001b[0;36m_modified_open\u001b[0;34m(file, *args, **kwargs)\u001b[0m\n\u001b[1;32m    317\u001b[0m \u001b[38;5;28;01mif\u001b[39;00m file \u001b[38;5;129;01min\u001b[39;00m {\u001b[38;5;241m0\u001b[39m, \u001b[38;5;241m1\u001b[39m, \u001b[38;5;241m2\u001b[39m}:\n\u001b[1;32m    318\u001b[0m     \u001b[38;5;28;01mraise\u001b[39;00m \u001b[38;5;167;01mValueError\u001b[39;00m(\n\u001b[1;32m    319\u001b[0m         \u001b[38;5;124mf\u001b[39m\u001b[38;5;124m\"\u001b[39m\u001b[38;5;124mIPython won\u001b[39m\u001b[38;5;124m'\u001b[39m\u001b[38;5;124mt let you open fd=\u001b[39m\u001b[38;5;132;01m{\u001b[39;00mfile\u001b[38;5;132;01m}\u001b[39;00m\u001b[38;5;124m by default \u001b[39m\u001b[38;5;124m\"\u001b[39m\n\u001b[1;32m    320\u001b[0m         \u001b[38;5;124m\"\u001b[39m\u001b[38;5;124mas it is likely to crash IPython. If you know what you are doing, \u001b[39m\u001b[38;5;124m\"\u001b[39m\n\u001b[1;32m    321\u001b[0m         \u001b[38;5;124m\"\u001b[39m\u001b[38;5;124myou can use builtins\u001b[39m\u001b[38;5;124m'\u001b[39m\u001b[38;5;124m open.\u001b[39m\u001b[38;5;124m\"\u001b[39m\n\u001b[1;32m    322\u001b[0m     )\n\u001b[0;32m--> 324\u001b[0m \u001b[38;5;28;01mreturn\u001b[39;00m \u001b[43mio_open\u001b[49m\u001b[43m(\u001b[49m\u001b[43mfile\u001b[49m\u001b[43m,\u001b[49m\u001b[43m \u001b[49m\u001b[38;5;241;43m*\u001b[39;49m\u001b[43margs\u001b[49m\u001b[43m,\u001b[49m\u001b[43m \u001b[49m\u001b[38;5;241;43m*\u001b[39;49m\u001b[38;5;241;43m*\u001b[39;49m\u001b[43mkwargs\u001b[49m\u001b[43m)\u001b[49m\n",
      "\u001b[0;31mFileNotFoundError\u001b[0m: [Errno 2] No such file or directory: 'projects/LangGFM/experiments/training_v1/indices_semantic.json'"
     ]
    }
   ],
   "source": [
    "# 转换为字符串\n",
    "import re\n",
    "json_string = json.dumps(indices)\n",
    "# print(f\"{json_string=}\")\n",
    "# # 设定 jsbeautifier 的格式化参数\n",
    "# opts = jsbeautifier.default_options()\n",
    "# opts.indent_size = 2  # 设置缩进大小\n",
    "# opts.wrap_line_length = 0  # 让列表中的列表不换行\n",
    "# opts.keep_array_indentation = True  # 保持数组缩进格式\n",
    "\n",
    "\n",
    "# 使用 jsbeautifier 美化 JSON\n",
    "formatted_json = jsbeautifier.beautify(json_string)\n",
    "# print(formatted_json)\n",
    "\n",
    "# formatted_json = re.sub(r'\\[\\n\\s+\\[([^]]+)]\\n\\s+]', r'[[\\1]]', formatted_json)\n",
    "# 处理数组换行问题\n",
    "# 正则替换，去除换行\n",
    "formatted_json = re.sub(r\"\\],\\s*\\n\\s*\\[\", \"], [\", formatted_json)\n",
    "\n",
    "# 替换 \"[\\n        [\" 为 \"[[\"\n",
    "formatted_json = re.sub(r'\\[\\s*\\n\\s*\\[', '[[', formatted_json)\n",
    "\n",
    "# 替换 \"]\\n    ]\" 为 \"]]\"\n",
    "formatted_json = re.sub(r'\\]\\s*\\n\\s*\\]', ']]', formatted_json)\n",
    "\n",
    "print(formatted_json)\n",
    "\n",
    "# 存储到本地文件\n",
    "with open(\"projects/LangGFM/experiments/training_v1/indices_semantic.json\", \"w\", encoding=\"utf-8\") as file:\n",
    "    file.write(formatted_json)\n",
    "\n",
    "\n",
    "\n",
    "# with open(\"/home/tlin4/projects/LangGFM/experiments/training_v1/indices_semantic.json\", \"w\") as f:\n",
    "#     json_str = json.dumps(indices, indent=4, separators=(',', ': '))\n",
    "#     json_str = re.sub(r'\\[\\n\\s+(\\[.*?\\])\\n\\s+\\]', r'[\\1]', json_str)\n",
    "#     f.write(json_str)\n"
   ]
  },
  {
   "cell_type": "code",
   "execution_count": 76,
   "metadata": {},
   "outputs": [
    {
     "name": "stdout",
     "output_type": "stream",
     "text": [
      "{\n",
      "    \"fb15k237\": [[11528, 2949, 1], [4430, 6021, 1], [10910, 7355, 0], [14153, 10398, 0], [4905, 12076, 0], [3943, 2314, 0], [12577, 310, 0], [11989, 689, 0], [2303, 14122, 0], [13595, 5462, 0]],\n",
      "    \"ogbl_vessel\": [[1220018, 1210418], [763068, 758718], [2425296, 2427986], [665292, 671297], [1409060, 1406480], [1638884, 1660322]]\n",
      "}\n"
     ]
    }
   ],
   "source": []
  }
 ],
 "metadata": {
  "kernelspec": {
   "display_name": "Python 3 (ipykernel)",
   "language": "python",
   "name": "python3"
  },
  "language_info": {
   "codemirror_mode": {
    "name": "ipython",
    "version": 3
   },
   "file_extension": ".py",
   "mimetype": "text/x-python",
   "name": "python",
   "nbconvert_exporter": "python",
   "pygments_lexer": "ipython3",
   "version": "3.11.11"
  }
 },
 "nbformat": 4,
 "nbformat_minor": 4
}
