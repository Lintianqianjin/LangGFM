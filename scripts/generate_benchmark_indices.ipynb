{
 "cells": [
  {
   "cell_type": "code",
   "execution_count": 7,
   "metadata": {},
   "outputs": [],
   "source": [
    "\n",
    "import os\n",
    "import json\n",
    "import random\n",
    "from tqdm import tqdm\n",
    "from langgfm.data.graph_generator import InputGraphGenerator"
   ]
  },
  {
   "cell_type": "code",
   "execution_count": 2,
   "metadata": {},
   "outputs": [],
   "source": [
    "\n",
    "dataset_name = \"oag_scholar_interest\"\n",
    "generator = InputGraphGenerator.create(dataset_name)"
   ]
  },
  {
   "cell_type": "code",
   "execution_count": 5,
   "metadata": {},
   "outputs": [
    {
     "data": {
      "text/plain": [
       "6"
      ]
     },
     "execution_count": 5,
     "metadata": {},
     "output_type": "execute_result"
    }
   ],
   "source": [
    "generator.all_samples[0]"
   ]
  },
  {
   "cell_type": "code",
   "execution_count": 9,
   "metadata": {},
   "outputs": [
    {
     "name": "stderr",
     "output_type": "stream",
     "text": [
      "  0%|          | 10/24193 [00:32<21:47:09,  3.24s/it]\n"
     ]
    },
    {
     "ename": "KeyboardInterrupt",
     "evalue": "",
     "output_type": "error",
     "traceback": [
      "\u001b[0;31m---------------------------------------------------------------------------\u001b[0m",
      "\u001b[0;31mKeyboardInterrupt\u001b[0m                         Traceback (most recent call last)",
      "Cell \u001b[0;32mIn[9], line 2\u001b[0m\n\u001b[1;32m      1\u001b[0m \u001b[38;5;28;01mfor\u001b[39;00m s \u001b[38;5;129;01min\u001b[39;00m tqdm(generator\u001b[38;5;241m.\u001b[39mall_samples):\n\u001b[0;32m----> 2\u001b[0m     generator\u001b[38;5;241m.\u001b[39mgenerate_graph(s)\n",
      "File \u001b[0;32m~/projects/LangGFM/src/langgfm/data/graph_generator/_base_generator.py:177\u001b[0m, in \u001b[0;36mNodeTaskGraphGenerator.generate_graph\u001b[0;34m(self, sample_id)\u001b[0m\n\u001b[1;32m    166\u001b[0m \u001b[38;5;28;01mdef\u001b[39;00m\u001b[38;5;250m \u001b[39m\u001b[38;5;21mgenerate_graph\u001b[39m(\u001b[38;5;28mself\u001b[39m, sample_id: \u001b[38;5;28mint\u001b[39m) \u001b[38;5;241m-\u001b[39m\u001b[38;5;241m>\u001b[39m nx\u001b[38;5;241m.\u001b[39mGraph:\n\u001b[1;32m    167\u001b[0m \u001b[38;5;250m    \u001b[39m\u001b[38;5;124;03m\"\"\"\u001b[39;00m\n\u001b[1;32m    168\u001b[0m \u001b[38;5;124;03m    Generate a single graph centered around a node using num_hops.\u001b[39;00m\n\u001b[1;32m    169\u001b[0m \u001b[38;5;124;03m    If sampling is enabled, sample neighbors up to neighbor_size.\u001b[39;00m\n\u001b[0;32m   (...)\u001b[0m\n\u001b[1;32m    175\u001b[0m \u001b[38;5;124;03m        nx.Graph: A NetworkX graph for the sample.\u001b[39;00m\n\u001b[1;32m    176\u001b[0m \u001b[38;5;124;03m    \"\"\"\u001b[39;00m\n\u001b[0;32m--> 177\u001b[0m     node_mapping, sub_graph_edge_mask \u001b[38;5;241m=\u001b[39m \u001b[38;5;28mself\u001b[39m\u001b[38;5;241m.\u001b[39megograph_sampling(sample_id)\n\u001b[1;32m    178\u001b[0m     G \u001b[38;5;241m=\u001b[39m \u001b[38;5;28mself\u001b[39m\u001b[38;5;241m.\u001b[39mcreate_networkx_graph(node_mapping, sub_graph_edge_mask)\n\u001b[1;32m    179\u001b[0m     new_G, node_idx_mapping_old_to_new \u001b[38;5;241m=\u001b[39m shuffle_nodes_randomly(G)\n",
      "File \u001b[0;32m~/projects/LangGFM/src/langgfm/data/graph_generator/_base_generator.py:121\u001b[0m, in \u001b[0;36mNodeTaskGraphGenerator.egograph_sampling\u001b[0;34m(self, sample_id)\u001b[0m\n\u001b[1;32m    109\u001b[0m \u001b[38;5;250m\u001b[39m\u001b[38;5;124;03m'''\u001b[39;00m\n\u001b[1;32m    110\u001b[0m \u001b[38;5;124;03mGenerate a k-hop subgraph for a given node ID.\u001b[39;00m\n\u001b[1;32m    111\u001b[0m \u001b[38;5;124;03m\u001b[39;00m\n\u001b[0;32m   (...)\u001b[0m\n\u001b[1;32m    118\u001b[0m \u001b[38;5;124;03m    sub_graph_edge_mask: The edge mask of the overall graph for sub_graph_edge_index.\u001b[39;00m\n\u001b[1;32m    119\u001b[0m \u001b[38;5;124;03m'''\u001b[39;00m\n\u001b[1;32m    120\u001b[0m \u001b[38;5;66;03m# print(f\"{sample_id=}\")\u001b[39;00m\n\u001b[0;32m--> 121\u001b[0m sub_graph_nodes, sub_graph_edge_mask \u001b[38;5;241m=\u001b[39m generate_node_centric_k_hop_subgraph(\n\u001b[1;32m    122\u001b[0m     \u001b[38;5;28mself\u001b[39m\u001b[38;5;241m.\u001b[39mgraph, sample_id, \u001b[38;5;28mself\u001b[39m\u001b[38;5;241m.\u001b[39mnum_hops, \u001b[38;5;28mself\u001b[39m\u001b[38;5;241m.\u001b[39mneighbor_size, \n\u001b[1;32m    123\u001b[0m     \u001b[38;5;28mself\u001b[39m\u001b[38;5;241m.\u001b[39mrandom_seed, \u001b[38;5;28mself\u001b[39m\u001b[38;5;241m.\u001b[39msampling\n\u001b[1;32m    124\u001b[0m )\n\u001b[1;32m    125\u001b[0m \u001b[38;5;66;03m# print(f\"{sub_graph_nodes=}\")\u001b[39;00m\n\u001b[1;32m    126\u001b[0m \n\u001b[1;32m    127\u001b[0m \u001b[38;5;66;03m# raw node index to new node index mapping\u001b[39;00m\n\u001b[1;32m    128\u001b[0m node_mapping \u001b[38;5;241m=\u001b[39m {\n\u001b[1;32m    129\u001b[0m     raw_node_idx: new_node_idx \n\u001b[1;32m    130\u001b[0m     \u001b[38;5;28;01mfor\u001b[39;00m new_node_idx, raw_node_idx \u001b[38;5;129;01min\u001b[39;00m \u001b[38;5;28menumerate\u001b[39m(sub_graph_nodes)\n\u001b[1;32m    131\u001b[0m }\n",
      "File \u001b[0;32m~/projects/LangGFM/src/langgfm/data/graph_generator/utils/sampling.py:318\u001b[0m, in \u001b[0;36mgenerate_node_centric_k_hop_subgraph\u001b[0;34m(graph, sample_id, num_hops, neighbor_size, random_seed, sampling)\u001b[0m\n\u001b[1;32m    303\u001b[0m     sub_graph_nodes, sub_graph_edge_mask \u001b[38;5;241m=\u001b[39m get_khop_subgraph(\n\u001b[1;32m    304\u001b[0m         edge_index\u001b[38;5;241m=\u001b[39mgraph\u001b[38;5;241m.\u001b[39medge_index, node_idx\u001b[38;5;241m=\u001b[39msample_id, num_hops\u001b[38;5;241m=\u001b[39mnum_hops, \n\u001b[1;32m    305\u001b[0m         max_neighbors_per_hop\u001b[38;5;241m=\u001b[39mneighbor_size, sampling\u001b[38;5;241m=\u001b[39m\u001b[38;5;28;01mTrue\u001b[39;00m, random_seed\u001b[38;5;241m=\u001b[39mrandom_seed\n\u001b[1;32m    306\u001b[0m     )\n\u001b[1;32m    307\u001b[0m \u001b[38;5;28;01melse\u001b[39;00m:\n\u001b[1;32m    308\u001b[0m \u001b[38;5;66;03m#     # Generate k-hop subgraph without sampling\u001b[39;00m\n\u001b[1;32m    309\u001b[0m \u001b[38;5;66;03m#     src_to_tgt_subset, src_to_tgt_edge_index, _, src_to_tgt_edge_mask = k_hop_subgraph(\u001b[39;00m\n\u001b[0;32m   (...)\u001b[0m\n\u001b[1;32m    316\u001b[0m \u001b[38;5;66;03m#         relabel_nodes=False, flow='target_to_source', directed=False\u001b[39;00m\n\u001b[1;32m    317\u001b[0m \u001b[38;5;66;03m#     )\u001b[39;00m\n\u001b[0;32m--> 318\u001b[0m     sub_graph_nodes, sub_graph_edge_mask \u001b[38;5;241m=\u001b[39m get_khop_subgraph(\n\u001b[1;32m    319\u001b[0m         edge_index\u001b[38;5;241m=\u001b[39mgraph\u001b[38;5;241m.\u001b[39medge_index, node_idx\u001b[38;5;241m=\u001b[39msample_id, num_hops\u001b[38;5;241m=\u001b[39mnum_hops, \n\u001b[1;32m    320\u001b[0m         sampling\u001b[38;5;241m=\u001b[39m\u001b[38;5;28;01mFalse\u001b[39;00m\n\u001b[1;32m    321\u001b[0m     )\n\u001b[1;32m    322\u001b[0m \u001b[38;5;66;03m# # Combine edges and nodes\u001b[39;00m\n\u001b[1;32m    323\u001b[0m \u001b[38;5;66;03m# sub_graph_edge_mask = torch.logical_or(src_to_tgt_edge_mask, tgt_to_src_edge_mask)\u001b[39;00m\n\u001b[1;32m    324\u001b[0m \u001b[38;5;66;03m# sub_graph_edge_index = graph.edge_index.T[sub_graph_edge_mask].T\u001b[39;00m\n\u001b[1;32m    325\u001b[0m \u001b[38;5;66;03m# sub_graph_nodes = set(src_to_tgt_subset.numpy().tolist()) | set(tgt_to_src_subset.numpy().tolist())\u001b[39;00m\n\u001b[1;32m    326\u001b[0m \u001b[38;5;66;03m# sub_graph_edge_index, \u001b[39;00m\n\u001b[1;32m    327\u001b[0m logger\u001b[38;5;241m.\u001b[39minfo(\u001b[38;5;124mf\u001b[39m\u001b[38;5;124m\"\u001b[39m\u001b[38;5;132;01m{\u001b[39;00msub_graph_nodes\u001b[38;5;132;01m=}\u001b[39;00m\u001b[38;5;124m\"\u001b[39m)\n",
      "File \u001b[0;32m~/projects/LangGFM/src/langgfm/data/graph_generator/utils/sampling.py:200\u001b[0m, in \u001b[0;36mget_khop_subgraph\u001b[0;34m(edge_index, node_idx, num_hops, max_neighbors_per_hop, sampling, random_seed)\u001b[0m\n\u001b[1;32m    197\u001b[0m num_nodes \u001b[38;5;241m=\u001b[39m \u001b[38;5;28mint\u001b[39m(all_nodes\u001b[38;5;241m.\u001b[39mmax()\u001b[38;5;241m.\u001b[39mitem()) \u001b[38;5;241m+\u001b[39m \u001b[38;5;241m1\u001b[39m\n\u001b[1;32m    199\u001b[0m \u001b[38;5;66;03m# 4) Build the CSR-like structure\u001b[39;00m\n\u001b[0;32m--> 200\u001b[0m row_ptr, col_ind \u001b[38;5;241m=\u001b[39m build_csr(edge_index, num_nodes)\n\u001b[1;32m    202\u001b[0m \u001b[38;5;66;03m# 5) Initialize BFS\u001b[39;00m\n\u001b[1;32m    203\u001b[0m visited \u001b[38;5;241m=\u001b[39m \u001b[38;5;28mset\u001b[39m(start_nodes)\n",
      "File \u001b[0;32m~/projects/LangGFM/src/langgfm/data/graph_generator/utils/sampling.py:122\u001b[0m, in \u001b[0;36mbuild_csr\u001b[0;34m(edge_index, num_nodes)\u001b[0m\n\u001b[1;32m    120\u001b[0m row, col \u001b[38;5;241m=\u001b[39m edge_index_undirected\n\u001b[1;32m    121\u001b[0m \u001b[38;5;66;03m# Sort edges by row so that all edges from the same source node are contiguous\u001b[39;00m\n\u001b[0;32m--> 122\u001b[0m sorted_idx \u001b[38;5;241m=\u001b[39m row\u001b[38;5;241m.\u001b[39margsort()\n\u001b[1;32m    123\u001b[0m row \u001b[38;5;241m=\u001b[39m row[sorted_idx]\n\u001b[1;32m    124\u001b[0m col \u001b[38;5;241m=\u001b[39m col[sorted_idx]\n",
      "\u001b[0;31mKeyboardInterrupt\u001b[0m: "
     ]
    }
   ],
   "source": [
    "for s in tqdm(generator.all_samples):\n",
    "    generator.generate_graph(s)"
   ]
  },
  {
   "cell_type": "code",
   "execution_count": 3,
   "metadata": {},
   "outputs": [],
   "source": [
    "# samples = json.load(open(\"/home/tlin4/projects/LangGFM/experiments/langgfm_i/movielens1m/test_200/indices.json\"))['movielens1m']"
   ]
  },
  {
   "cell_type": "code",
   "execution_count": null,
   "metadata": {},
   "outputs": [
    {
     "name": "stdout",
     "output_type": "stream",
     "text": [
      "[8246, 3722]\n",
      "[8257, 1552]\n",
      "[7965, 2473]\n",
      "[5844, 2502]\n",
      "[6561, 591]\n",
      "[7037, 2199]\n",
      "[7930, 999]\n",
      "[5736, 2637]\n",
      "[8655, 1804]\n",
      "[9104, 2324]\n",
      "[8200, 1238]\n",
      "[9138, 3515]\n",
      "[9831, 2614]\n",
      "[9571, 3079]\n",
      "[7696, 3571]\n",
      "[9207, 604]\n",
      "[9658, 3045]\n",
      "[9770, 2736]\n",
      "[9688, 229]\n",
      "[8269, 1424]\n",
      "[7569, 890]\n",
      "[8487, 427]\n",
      "[9518, 2312]\n",
      "[8786, 778]\n",
      "[8682, 2051]\n",
      "[6115, 2105]\n",
      "[9269, 2105]\n",
      "[8564, 2516]\n",
      "[8130, 2098]\n",
      "[7874, 2351]\n",
      "[9580, 1899]\n",
      "[9138, 2343]\n",
      "[9541, 508]\n"
     ]
    },
    {
     "name": "stdout",
     "output_type": "stream",
     "text": [
      "[5508, 1627]\n",
      "[7045, 1250]\n",
      "[8461, 903]\n",
      "[9846, 2196]\n"
     ]
    }
   ],
   "source": [
    "for s in samples:\n",
    "    try:\n",
    "        generator.generate_graph(s)\n",
    "    except:\n",
    "        print(s)"
   ]
  },
  {
   "cell_type": "code",
   "execution_count": 17,
   "metadata": {},
   "outputs": [],
   "source": [
    "# sampling 10000 samples\n",
    "sampled_items = random.sample(generator.all_samples, 10000)\n",
    "indices= {dataset_name: sampled_items}"
   ]
  },
  {
   "cell_type": "code",
   "execution_count": 13,
   "metadata": {},
   "outputs": [
    {
     "ename": "FileNotFoundError",
     "evalue": "[Errno 2] No such file or directory: 'experiments/benchmark/ogbn_arxiv/pre_selection'",
     "output_type": "error",
     "traceback": [
      "\u001b[0;31m---------------------------------------------------------------------------\u001b[0m",
      "\u001b[0;31mFileNotFoundError\u001b[0m                         Traceback (most recent call last)",
      "Cell \u001b[0;32mIn[13], line 1\u001b[0m\n\u001b[0;32m----> 1\u001b[0m json\u001b[38;5;241m.\u001b[39mdump(indices, \u001b[38;5;28mopen\u001b[39m(\u001b[38;5;124m\"\u001b[39m\u001b[38;5;124mexperiments/benchmark/ogbn_arxiv/pre_selection\u001b[39m\u001b[38;5;124m\"\u001b[39m, \u001b[38;5;124m\"\u001b[39m\u001b[38;5;124mw\u001b[39m\u001b[38;5;124m\"\u001b[39m), indent\u001b[38;5;241m=\u001b[39m\u001b[38;5;241m2\u001b[39m)\n",
      "File \u001b[0;32m~/softwares/anaconda3/envs/GFM/lib/python3.11/site-packages/IPython/core/interactiveshell.py:324\u001b[0m, in \u001b[0;36m_modified_open\u001b[0;34m(file, *args, **kwargs)\u001b[0m\n\u001b[1;32m    317\u001b[0m \u001b[38;5;28;01mif\u001b[39;00m file \u001b[38;5;129;01min\u001b[39;00m {\u001b[38;5;241m0\u001b[39m, \u001b[38;5;241m1\u001b[39m, \u001b[38;5;241m2\u001b[39m}:\n\u001b[1;32m    318\u001b[0m     \u001b[38;5;28;01mraise\u001b[39;00m \u001b[38;5;167;01mValueError\u001b[39;00m(\n\u001b[1;32m    319\u001b[0m         \u001b[38;5;124mf\u001b[39m\u001b[38;5;124m\"\u001b[39m\u001b[38;5;124mIPython won\u001b[39m\u001b[38;5;124m'\u001b[39m\u001b[38;5;124mt let you open fd=\u001b[39m\u001b[38;5;132;01m{\u001b[39;00mfile\u001b[38;5;132;01m}\u001b[39;00m\u001b[38;5;124m by default \u001b[39m\u001b[38;5;124m\"\u001b[39m\n\u001b[1;32m    320\u001b[0m         \u001b[38;5;124m\"\u001b[39m\u001b[38;5;124mas it is likely to crash IPython. If you know what you are doing, \u001b[39m\u001b[38;5;124m\"\u001b[39m\n\u001b[1;32m    321\u001b[0m         \u001b[38;5;124m\"\u001b[39m\u001b[38;5;124myou can use builtins\u001b[39m\u001b[38;5;124m'\u001b[39m\u001b[38;5;124m open.\u001b[39m\u001b[38;5;124m\"\u001b[39m\n\u001b[1;32m    322\u001b[0m     )\n\u001b[0;32m--> 324\u001b[0m \u001b[38;5;28;01mreturn\u001b[39;00m io_open(file, \u001b[38;5;241m*\u001b[39margs, \u001b[38;5;241m*\u001b[39m\u001b[38;5;241m*\u001b[39mkwargs)\n",
      "\u001b[0;31mFileNotFoundError\u001b[0m: [Errno 2] No such file or directory: 'experiments/benchmark/ogbn_arxiv/pre_selection'"
     ]
    }
   ],
   "source": [
    "folder_path = f\"experiments/benchmark/{dataset_name}/pre_selection\"\n",
    "os.makedirs(folder_path, exist_ok=True)\n",
    "json.dump(indices, open(folder_path, \"w\"), indent=2)"
   ]
  }
 ],
 "metadata": {
  "kernelspec": {
   "display_name": "Python 3 (ipykernel)",
   "language": "python",
   "name": "python3"
  },
  "language_info": {
   "codemirror_mode": {
    "name": "ipython",
    "version": 3
   },
   "file_extension": ".py",
   "mimetype": "text/x-python",
   "name": "python",
   "nbconvert_exporter": "python",
   "pygments_lexer": "ipython3",
   "version": "3.11.11"
  }
 },
 "nbformat": 4,
 "nbformat_minor": 2
}
